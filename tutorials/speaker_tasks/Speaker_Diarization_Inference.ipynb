{
  "cells": [
    {
      "cell_type": "code",
      "execution_count": 11,
      "metadata": {
        "colab": {
          "base_uri": "https://localhost:8080/"
        },
        "id": "tsfgJGYWTqY6",
        "outputId": "38ab98ce-0863-475d-9f57-c58d035e9aa3"
      },
      "outputs": [
        {
          "output_type": "stream",
          "name": "stdout",
          "text": [
            "Requirement already satisfied: wget in /usr/local/lib/python3.12/dist-packages (3.2)\n",
            "Reading package lists... Done\n",
            "Building dependency tree... Done\n",
            "Reading state information... Done\n",
            "libsndfile1 is already the newest version (1.0.31-2ubuntu0.2).\n",
            "ffmpeg is already the newest version (7:4.4.2-0ubuntu0.22.04.1).\n",
            "sox is already the newest version (14.4.2+git20190427-2+deb11u2ubuntu0.22.04.1).\n",
            "0 upgraded, 0 newly installed, 0 to remove and 35 not upgraded.\n",
            "Requirement already satisfied: text-unidecode in /usr/local/lib/python3.12/dist-packages (1.3)\n",
            "Requirement already satisfied: ipython in /usr/local/lib/python3.12/dist-packages (7.34.0)\n",
            "Requirement already satisfied: setuptools>=18.5 in /usr/local/lib/python3.12/dist-packages (from ipython) (75.2.0)\n",
            "Requirement already satisfied: jedi>=0.16 in /usr/local/lib/python3.12/dist-packages (from ipython) (0.19.2)\n",
            "Requirement already satisfied: decorator in /usr/local/lib/python3.12/dist-packages (from ipython) (4.4.2)\n",
            "Requirement already satisfied: pickleshare in /usr/local/lib/python3.12/dist-packages (from ipython) (0.7.5)\n",
            "Requirement already satisfied: traitlets>=4.2 in /usr/local/lib/python3.12/dist-packages (from ipython) (5.7.1)\n",
            "Requirement already satisfied: prompt-toolkit!=3.0.0,!=3.0.1,<3.1.0,>=2.0.0 in /usr/local/lib/python3.12/dist-packages (from ipython) (3.0.52)\n",
            "Requirement already satisfied: pygments in /usr/local/lib/python3.12/dist-packages (from ipython) (2.19.2)\n",
            "Requirement already satisfied: backcall in /usr/local/lib/python3.12/dist-packages (from ipython) (0.2.0)\n",
            "Requirement already satisfied: matplotlib-inline in /usr/local/lib/python3.12/dist-packages (from ipython) (0.1.7)\n",
            "Requirement already satisfied: pexpect>4.3 in /usr/local/lib/python3.12/dist-packages (from ipython) (4.9.0)\n",
            "Requirement already satisfied: parso<0.9.0,>=0.8.4 in /usr/local/lib/python3.12/dist-packages (from jedi>=0.16->ipython) (0.8.5)\n",
            "Requirement already satisfied: ptyprocess>=0.5 in /usr/local/lib/python3.12/dist-packages (from pexpect>4.3->ipython) (0.7.0)\n",
            "Requirement already satisfied: wcwidth in /usr/local/lib/python3.12/dist-packages (from prompt-toolkit!=3.0.0,!=3.0.1,<3.1.0,>=2.0.0->ipython) (0.2.13)\n",
            "Collecting numpy==1.23.5\n",
            "  Downloading numpy-1.23.5.tar.gz (10.7 MB)\n",
            "\u001b[2K     \u001b[90m━━━━━━━━━━━━━━━━━━━━━━━━━━━━━━━━━━━━━━━━\u001b[0m \u001b[32m10.7/10.7 MB\u001b[0m \u001b[31m72.4 MB/s\u001b[0m eta \u001b[36m0:00:00\u001b[0m\n",
            "\u001b[?25h  Installing build dependencies ... \u001b[?25l\u001b[?25hdone\n",
            "  \u001b[1;31merror\u001b[0m: \u001b[1msubprocess-exited-with-error\u001b[0m\n",
            "  \n",
            "  \u001b[31m×\u001b[0m \u001b[32mGetting requirements to build wheel\u001b[0m did not run successfully.\n",
            "  \u001b[31m│\u001b[0m exit code: \u001b[1;36m1\u001b[0m\n",
            "  \u001b[31m╰─>\u001b[0m See above for output.\n",
            "  \n",
            "  \u001b[1;35mnote\u001b[0m: This error originates from a subprocess, and is likely not a problem with pip.\n",
            "  Getting requirements to build wheel ... \u001b[?25l\u001b[?25herror\n",
            "\u001b[1;31merror\u001b[0m: \u001b[1msubprocess-exited-with-error\u001b[0m\n",
            "\n",
            "\u001b[31m×\u001b[0m \u001b[32mGetting requirements to build wheel\u001b[0m did not run successfully.\n",
            "\u001b[31m│\u001b[0m exit code: \u001b[1;36m1\u001b[0m\n",
            "\u001b[31m╰─>\u001b[0m See above for output.\n",
            "\n",
            "\u001b[1;35mnote\u001b[0m: This error originates from a subprocess, and is likely not a problem with pip.\n",
            "\u001b[33mDEPRECATION: git+https://github.com/NVIDIA/NeMo.git@main#egg=nemo_toolkit[asr] contains an egg fragment with a non-PEP 508 name pip 25.0 will enforce this behaviour change. A possible replacement is to use the req @ url syntax, and remove the egg fragment. Discussion can be found at https://github.com/pypa/pip/issues/11617\u001b[0m\u001b[33m\n",
            "\u001b[0mCollecting nemo_toolkit (from nemo_toolkit[asr])\n",
            "  Cloning https://github.com/NVIDIA/NeMo.git (to revision main) to /tmp/pip-install-cw_jtr1r/nemo-toolkit_db2d4c7c503948dba37754aabaa85cc8\n",
            "  Running command git clone --filter=blob:none --quiet https://github.com/NVIDIA/NeMo.git /tmp/pip-install-cw_jtr1r/nemo-toolkit_db2d4c7c503948dba37754aabaa85cc8\n",
            "  Resolved https://github.com/NVIDIA/NeMo.git to commit 82012319fa902f00c505389d482a1531b0fc37fb\n",
            "  Installing build dependencies ... \u001b[?25l\u001b[?25hdone\n",
            "  Getting requirements to build wheel ... \u001b[?25l\u001b[?25hdone\n",
            "  Preparing metadata (pyproject.toml) ... \u001b[?25l\u001b[?25hdone\n",
            "Requirement already satisfied: fsspec==2024.12.0 in /usr/local/lib/python3.12/dist-packages (from nemo_toolkit->nemo_toolkit[asr]) (2024.12.0)\n",
            "Requirement already satisfied: huggingface_hub>=0.24 in /usr/local/lib/python3.12/dist-packages (from nemo_toolkit->nemo_toolkit[asr]) (0.34.4)\n",
            "Requirement already satisfied: numba in /usr/local/lib/python3.12/dist-packages (from nemo_toolkit->nemo_toolkit[asr]) (0.60.0)\n",
            "Requirement already satisfied: numpy>=1.22 in /usr/local/lib/python3.12/dist-packages (from nemo_toolkit->nemo_toolkit[asr]) (1.26.4)\n",
            "Requirement already satisfied: onnx>=1.7.0 in /usr/local/lib/python3.12/dist-packages (from nemo_toolkit->nemo_toolkit[asr]) (1.19.0)\n",
            "Requirement already satisfied: protobuf~=5.29.5 in /usr/local/lib/python3.12/dist-packages (from nemo_toolkit->nemo_toolkit[asr]) (5.29.5)\n",
            "Requirement already satisfied: python-dateutil in /usr/local/lib/python3.12/dist-packages (from nemo_toolkit->nemo_toolkit[asr]) (2.9.0.post0)\n",
            "Requirement already satisfied: ruamel.yaml in /usr/local/lib/python3.12/dist-packages (from nemo_toolkit->nemo_toolkit[asr]) (0.18.15)\n",
            "Requirement already satisfied: scikit-learn in /usr/local/lib/python3.12/dist-packages (from nemo_toolkit->nemo_toolkit[asr]) (1.6.1)\n",
            "Requirement already satisfied: setuptools>=70.0.0 in /usr/local/lib/python3.12/dist-packages (from nemo_toolkit->nemo_toolkit[asr]) (75.2.0)\n",
            "Requirement already satisfied: tensorboard in /usr/local/lib/python3.12/dist-packages (from nemo_toolkit->nemo_toolkit[asr]) (2.19.0)\n",
            "Requirement already satisfied: text-unidecode in /usr/local/lib/python3.12/dist-packages (from nemo_toolkit->nemo_toolkit[asr]) (1.3)\n",
            "Requirement already satisfied: torch in /usr/local/lib/python3.12/dist-packages (from nemo_toolkit->nemo_toolkit[asr]) (2.8.0+cu126)\n",
            "Requirement already satisfied: tqdm>=4.41.0 in /usr/local/lib/python3.12/dist-packages (from nemo_toolkit->nemo_toolkit[asr]) (4.67.1)\n",
            "Requirement already satisfied: wget in /usr/local/lib/python3.12/dist-packages (from nemo_toolkit->nemo_toolkit[asr]) (3.2)\n",
            "Requirement already satisfied: wrapt in /usr/local/lib/python3.12/dist-packages (from nemo_toolkit->nemo_toolkit[asr]) (1.17.3)\n",
            "Requirement already satisfied: braceexpand in /usr/local/lib/python3.12/dist-packages (from nemo_toolkit->nemo_toolkit[asr]) (0.1.7)\n",
            "Requirement already satisfied: editdistance in /usr/local/lib/python3.12/dist-packages (from nemo_toolkit->nemo_toolkit[asr]) (0.8.1)\n",
            "Requirement already satisfied: einops in /usr/local/lib/python3.12/dist-packages (from nemo_toolkit->nemo_toolkit[asr]) (0.8.1)\n",
            "Requirement already satisfied: jiwer<4.0.0,>=3.1.0 in /usr/local/lib/python3.12/dist-packages (from nemo_toolkit->nemo_toolkit[asr]) (3.1.0)\n",
            "Requirement already satisfied: kaldi-python-io in /usr/local/lib/python3.12/dist-packages (from nemo_toolkit->nemo_toolkit[asr]) (1.2.2)\n",
            "Requirement already satisfied: lhotse!=1.31.0 in /usr/local/lib/python3.12/dist-packages (from nemo_toolkit->nemo_toolkit[asr]) (1.30.3)\n",
            "Requirement already satisfied: librosa>=0.10.1 in /usr/local/lib/python3.12/dist-packages (from nemo_toolkit->nemo_toolkit[asr]) (0.11.0)\n",
            "Requirement already satisfied: marshmallow in /usr/local/lib/python3.12/dist-packages (from nemo_toolkit->nemo_toolkit[asr]) (4.0.1)\n",
            "Requirement already satisfied: optuna in /usr/local/lib/python3.12/dist-packages (from nemo_toolkit->nemo_toolkit[asr]) (4.5.0)\n",
            "Requirement already satisfied: packaging in /usr/local/lib/python3.12/dist-packages (from nemo_toolkit->nemo_toolkit[asr]) (24.2)\n",
            "Requirement already satisfied: pyannote.core in /usr/local/lib/python3.12/dist-packages (from nemo_toolkit->nemo_toolkit[asr]) (5.0.0)\n",
            "Requirement already satisfied: pyannote.metrics in /usr/local/lib/python3.12/dist-packages (from nemo_toolkit->nemo_toolkit[asr]) (3.2.1)\n",
            "Requirement already satisfied: pydub in /usr/local/lib/python3.12/dist-packages (from nemo_toolkit->nemo_toolkit[asr]) (0.25.1)\n",
            "Requirement already satisfied: pyloudnorm in /usr/local/lib/python3.12/dist-packages (from nemo_toolkit->nemo_toolkit[asr]) (0.1.1)\n",
            "Requirement already satisfied: resampy in /usr/local/lib/python3.12/dist-packages (from nemo_toolkit->nemo_toolkit[asr]) (0.4.3)\n",
            "Requirement already satisfied: scipy>=0.14 in /usr/local/lib/python3.12/dist-packages (from nemo_toolkit->nemo_toolkit[asr]) (1.16.1)\n",
            "Requirement already satisfied: soundfile in /usr/local/lib/python3.12/dist-packages (from nemo_toolkit->nemo_toolkit[asr]) (0.13.1)\n",
            "Requirement already satisfied: sox<=1.5.0 in /usr/local/lib/python3.12/dist-packages (from nemo_toolkit->nemo_toolkit[asr]) (1.5.0)\n",
            "Requirement already satisfied: texterrors<1.0.0 in /usr/local/lib/python3.12/dist-packages (from nemo_toolkit->nemo_toolkit[asr]) (0.5.1)\n",
            "Requirement already satisfied: whisper_normalizer in /usr/local/lib/python3.12/dist-packages (from nemo_toolkit->nemo_toolkit[asr]) (0.1.12)\n",
            "Requirement already satisfied: num2words in /usr/local/lib/python3.12/dist-packages (from nemo_toolkit->nemo_toolkit[asr]) (0.5.14)\n",
            "Requirement already satisfied: datasets in /usr/local/lib/python3.12/dist-packages (from nemo_toolkit->nemo_toolkit[asr]) (4.0.0)\n",
            "Requirement already satisfied: inflect in /usr/local/lib/python3.12/dist-packages (from nemo_toolkit->nemo_toolkit[asr]) (7.5.0)\n",
            "Requirement already satisfied: mediapy==1.1.6 in /usr/local/lib/python3.12/dist-packages (from nemo_toolkit->nemo_toolkit[asr]) (1.1.6)\n",
            "Requirement already satisfied: pandas in /usr/local/lib/python3.12/dist-packages (from nemo_toolkit->nemo_toolkit[asr]) (2.2.2)\n",
            "Requirement already satisfied: sacremoses>=0.0.43 in /usr/local/lib/python3.12/dist-packages (from nemo_toolkit->nemo_toolkit[asr]) (0.1.1)\n",
            "Requirement already satisfied: sentencepiece<1.0.0 in /usr/local/lib/python3.12/dist-packages (from nemo_toolkit->nemo_toolkit[asr]) (0.2.1)\n",
            "Requirement already satisfied: cloudpickle in /usr/local/lib/python3.12/dist-packages (from nemo_toolkit->nemo_toolkit[asr]) (3.1.1)\n",
            "Requirement already satisfied: fiddle in /usr/local/lib/python3.12/dist-packages (from nemo_toolkit->nemo_toolkit[asr]) (0.3.0)\n",
            "Requirement already satisfied: hydra-core<=1.3.2,>1.3 in /usr/local/lib/python3.12/dist-packages (from nemo_toolkit->nemo_toolkit[asr]) (1.3.2)\n",
            "Requirement already satisfied: lightning<=2.4.0,>2.2.1 in /usr/local/lib/python3.12/dist-packages (from nemo_toolkit->nemo_toolkit[asr]) (2.4.0)\n",
            "Requirement already satisfied: omegaconf<=2.3 in /usr/local/lib/python3.12/dist-packages (from nemo_toolkit->nemo_toolkit[asr]) (2.3.0)\n",
            "Requirement already satisfied: peft in /usr/local/lib/python3.12/dist-packages (from nemo_toolkit->nemo_toolkit[asr]) (0.17.1)\n",
            "Requirement already satisfied: torchmetrics>=0.11.0 in /usr/local/lib/python3.12/dist-packages (from nemo_toolkit->nemo_toolkit[asr]) (1.8.2)\n",
            "Requirement already satisfied: transformers~=4.53.0 in /usr/local/lib/python3.12/dist-packages (from nemo_toolkit->nemo_toolkit[asr]) (4.53.3)\n",
            "Requirement already satisfied: wandb in /usr/local/lib/python3.12/dist-packages (from nemo_toolkit->nemo_toolkit[asr]) (0.21.3)\n",
            "Requirement already satisfied: webdataset>=0.2.86 in /usr/local/lib/python3.12/dist-packages (from nemo_toolkit->nemo_toolkit[asr]) (1.0.2)\n",
            "Requirement already satisfied: bitsandbytes==0.46.0 in /usr/local/lib/python3.12/dist-packages (from nemo_toolkit->nemo_toolkit[asr]) (0.46.0)\n",
            "Requirement already satisfied: ipython in /usr/local/lib/python3.12/dist-packages (from mediapy==1.1.6->nemo_toolkit->nemo_toolkit[asr]) (7.34.0)\n",
            "Requirement already satisfied: matplotlib in /usr/local/lib/python3.12/dist-packages (from mediapy==1.1.6->nemo_toolkit->nemo_toolkit[asr]) (3.10.0)\n",
            "Requirement already satisfied: Pillow in /usr/local/lib/python3.12/dist-packages (from mediapy==1.1.6->nemo_toolkit->nemo_toolkit[asr]) (11.3.0)\n",
            "Requirement already satisfied: filelock in /usr/local/lib/python3.12/dist-packages (from huggingface_hub>=0.24->nemo_toolkit->nemo_toolkit[asr]) (3.19.1)\n",
            "Requirement already satisfied: pyyaml>=5.1 in /usr/local/lib/python3.12/dist-packages (from huggingface_hub>=0.24->nemo_toolkit->nemo_toolkit[asr]) (6.0.2)\n",
            "Requirement already satisfied: requests in /usr/local/lib/python3.12/dist-packages (from huggingface_hub>=0.24->nemo_toolkit->nemo_toolkit[asr]) (2.32.4)\n",
            "Requirement already satisfied: typing-extensions>=3.7.4.3 in /usr/local/lib/python3.12/dist-packages (from huggingface_hub>=0.24->nemo_toolkit->nemo_toolkit[asr]) (4.15.0)\n",
            "Requirement already satisfied: hf-xet<2.0.0,>=1.1.3 in /usr/local/lib/python3.12/dist-packages (from huggingface_hub>=0.24->nemo_toolkit->nemo_toolkit[asr]) (1.1.9)\n",
            "Requirement already satisfied: antlr4-python3-runtime==4.9.* in /usr/local/lib/python3.12/dist-packages (from hydra-core<=1.3.2,>1.3->nemo_toolkit->nemo_toolkit[asr]) (4.9.3)\n",
            "Requirement already satisfied: click>=8.1.8 in /usr/local/lib/python3.12/dist-packages (from jiwer<4.0.0,>=3.1.0->nemo_toolkit->nemo_toolkit[asr]) (8.2.1)\n",
            "Requirement already satisfied: rapidfuzz>=3.9.7 in /usr/local/lib/python3.12/dist-packages (from jiwer<4.0.0,>=3.1.0->nemo_toolkit->nemo_toolkit[asr]) (3.14.0)\n",
            "Requirement already satisfied: audioread>=2.1.9 in /usr/local/lib/python3.12/dist-packages (from lhotse!=1.31.0->nemo_toolkit->nemo_toolkit[asr]) (3.0.1)\n",
            "Requirement already satisfied: cytoolz>=0.10.1 in /usr/local/lib/python3.12/dist-packages (from lhotse!=1.31.0->nemo_toolkit->nemo_toolkit[asr]) (1.0.1)\n",
            "Requirement already satisfied: intervaltree>=3.1.0 in /usr/local/lib/python3.12/dist-packages (from lhotse!=1.31.0->nemo_toolkit->nemo_toolkit[asr]) (3.1.0)\n",
            "Requirement already satisfied: tabulate>=0.8.1 in /usr/local/lib/python3.12/dist-packages (from lhotse!=1.31.0->nemo_toolkit->nemo_toolkit[asr]) (0.9.0)\n",
            "Requirement already satisfied: lilcom>=1.1.0 in /usr/local/lib/python3.12/dist-packages (from lhotse!=1.31.0->nemo_toolkit->nemo_toolkit[asr]) (1.8.1)\n",
            "Requirement already satisfied: joblib>=1.0 in /usr/local/lib/python3.12/dist-packages (from librosa>=0.10.1->nemo_toolkit->nemo_toolkit[asr]) (1.5.2)\n",
            "Requirement already satisfied: decorator>=4.3.0 in /usr/local/lib/python3.12/dist-packages (from librosa>=0.10.1->nemo_toolkit->nemo_toolkit[asr]) (4.4.2)\n",
            "Requirement already satisfied: pooch>=1.1 in /usr/local/lib/python3.12/dist-packages (from librosa>=0.10.1->nemo_toolkit->nemo_toolkit[asr]) (1.8.2)\n",
            "Requirement already satisfied: soxr>=0.3.2 in /usr/local/lib/python3.12/dist-packages (from librosa>=0.10.1->nemo_toolkit->nemo_toolkit[asr]) (0.5.0.post1)\n",
            "Requirement already satisfied: lazy_loader>=0.1 in /usr/local/lib/python3.12/dist-packages (from librosa>=0.10.1->nemo_toolkit->nemo_toolkit[asr]) (0.4)\n",
            "Requirement already satisfied: msgpack>=1.0 in /usr/local/lib/python3.12/dist-packages (from librosa>=0.10.1->nemo_toolkit->nemo_toolkit[asr]) (1.1.1)\n",
            "Requirement already satisfied: lightning-utilities<2.0,>=0.10.0 in /usr/local/lib/python3.12/dist-packages (from lightning<=2.4.0,>2.2.1->nemo_toolkit->nemo_toolkit[asr]) (0.15.2)\n",
            "Requirement already satisfied: pytorch-lightning in /usr/local/lib/python3.12/dist-packages (from lightning<=2.4.0,>2.2.1->nemo_toolkit->nemo_toolkit[asr]) (2.5.5)\n",
            "Requirement already satisfied: llvmlite<0.44,>=0.43.0dev0 in /usr/local/lib/python3.12/dist-packages (from numba->nemo_toolkit->nemo_toolkit[asr]) (0.43.0)\n",
            "Requirement already satisfied: ml_dtypes in /usr/local/lib/python3.12/dist-packages (from onnx>=1.7.0->nemo_toolkit->nemo_toolkit[asr]) (0.5.3)\n",
            "Requirement already satisfied: regex in /usr/local/lib/python3.12/dist-packages (from sacremoses>=0.0.43->nemo_toolkit->nemo_toolkit[asr]) (2024.11.6)\n",
            "Requirement already satisfied: threadpoolctl>=3.1.0 in /usr/local/lib/python3.12/dist-packages (from scikit-learn->nemo_toolkit->nemo_toolkit[asr]) (3.6.0)\n",
            "Requirement already satisfied: cffi>=1.0 in /usr/local/lib/python3.12/dist-packages (from soundfile->nemo_toolkit->nemo_toolkit[asr]) (1.17.1)\n",
            "Requirement already satisfied: pybind11 in /usr/local/lib/python3.12/dist-packages (from texterrors<1.0.0->nemo_toolkit->nemo_toolkit[asr]) (3.0.1)\n",
            "Requirement already satisfied: plac in /usr/local/lib/python3.12/dist-packages (from texterrors<1.0.0->nemo_toolkit->nemo_toolkit[asr]) (1.4.5)\n",
            "Requirement already satisfied: loguru in /usr/local/lib/python3.12/dist-packages (from texterrors<1.0.0->nemo_toolkit->nemo_toolkit[asr]) (0.7.3)\n",
            "Requirement already satisfied: termcolor in /usr/local/lib/python3.12/dist-packages (from texterrors<1.0.0->nemo_toolkit->nemo_toolkit[asr]) (3.1.0)\n",
            "Requirement already satisfied: Levenshtein in /usr/local/lib/python3.12/dist-packages (from texterrors<1.0.0->nemo_toolkit->nemo_toolkit[asr]) (0.27.1)\n",
            "Requirement already satisfied: sympy>=1.13.3 in /usr/local/lib/python3.12/dist-packages (from torch->nemo_toolkit->nemo_toolkit[asr]) (1.13.3)\n",
            "Requirement already satisfied: networkx in /usr/local/lib/python3.12/dist-packages (from torch->nemo_toolkit->nemo_toolkit[asr]) (3.5)\n",
            "Requirement already satisfied: jinja2 in /usr/local/lib/python3.12/dist-packages (from torch->nemo_toolkit->nemo_toolkit[asr]) (3.1.6)\n",
            "Requirement already satisfied: nvidia-cuda-nvrtc-cu12==12.6.77 in /usr/local/lib/python3.12/dist-packages (from torch->nemo_toolkit->nemo_toolkit[asr]) (12.6.77)\n",
            "Requirement already satisfied: nvidia-cuda-runtime-cu12==12.6.77 in /usr/local/lib/python3.12/dist-packages (from torch->nemo_toolkit->nemo_toolkit[asr]) (12.6.77)\n",
            "Requirement already satisfied: nvidia-cuda-cupti-cu12==12.6.80 in /usr/local/lib/python3.12/dist-packages (from torch->nemo_toolkit->nemo_toolkit[asr]) (12.6.80)\n",
            "Requirement already satisfied: nvidia-cudnn-cu12==9.10.2.21 in /usr/local/lib/python3.12/dist-packages (from torch->nemo_toolkit->nemo_toolkit[asr]) (9.10.2.21)\n",
            "Requirement already satisfied: nvidia-cublas-cu12==12.6.4.1 in /usr/local/lib/python3.12/dist-packages (from torch->nemo_toolkit->nemo_toolkit[asr]) (12.6.4.1)\n",
            "Requirement already satisfied: nvidia-cufft-cu12==11.3.0.4 in /usr/local/lib/python3.12/dist-packages (from torch->nemo_toolkit->nemo_toolkit[asr]) (11.3.0.4)\n",
            "Requirement already satisfied: nvidia-curand-cu12==10.3.7.77 in /usr/local/lib/python3.12/dist-packages (from torch->nemo_toolkit->nemo_toolkit[asr]) (10.3.7.77)\n",
            "Requirement already satisfied: nvidia-cusolver-cu12==11.7.1.2 in /usr/local/lib/python3.12/dist-packages (from torch->nemo_toolkit->nemo_toolkit[asr]) (11.7.1.2)\n",
            "Requirement already satisfied: nvidia-cusparse-cu12==12.5.4.2 in /usr/local/lib/python3.12/dist-packages (from torch->nemo_toolkit->nemo_toolkit[asr]) (12.5.4.2)\n",
            "Requirement already satisfied: nvidia-cusparselt-cu12==0.7.1 in /usr/local/lib/python3.12/dist-packages (from torch->nemo_toolkit->nemo_toolkit[asr]) (0.7.1)\n",
            "Requirement already satisfied: nvidia-nccl-cu12==2.27.3 in /usr/local/lib/python3.12/dist-packages (from torch->nemo_toolkit->nemo_toolkit[asr]) (2.27.3)\n",
            "Requirement already satisfied: nvidia-nvtx-cu12==12.6.77 in /usr/local/lib/python3.12/dist-packages (from torch->nemo_toolkit->nemo_toolkit[asr]) (12.6.77)\n",
            "Requirement already satisfied: nvidia-nvjitlink-cu12==12.6.85 in /usr/local/lib/python3.12/dist-packages (from torch->nemo_toolkit->nemo_toolkit[asr]) (12.6.85)\n",
            "Requirement already satisfied: nvidia-cufile-cu12==1.11.1.6 in /usr/local/lib/python3.12/dist-packages (from torch->nemo_toolkit->nemo_toolkit[asr]) (1.11.1.6)\n",
            "Requirement already satisfied: triton==3.4.0 in /usr/local/lib/python3.12/dist-packages (from torch->nemo_toolkit->nemo_toolkit[asr]) (3.4.0)\n",
            "Requirement already satisfied: tokenizers<0.22,>=0.21 in /usr/local/lib/python3.12/dist-packages (from transformers~=4.53.0->nemo_toolkit->nemo_toolkit[asr]) (0.21.4)\n",
            "Requirement already satisfied: safetensors>=0.4.3 in /usr/local/lib/python3.12/dist-packages (from transformers~=4.53.0->nemo_toolkit->nemo_toolkit[asr]) (0.6.2)\n",
            "Requirement already satisfied: pyarrow>=15.0.0 in /usr/local/lib/python3.12/dist-packages (from datasets->nemo_toolkit->nemo_toolkit[asr]) (18.1.0)\n",
            "Requirement already satisfied: dill<0.3.9,>=0.3.0 in /usr/local/lib/python3.12/dist-packages (from datasets->nemo_toolkit->nemo_toolkit[asr]) (0.3.8)\n",
            "Requirement already satisfied: xxhash in /usr/local/lib/python3.12/dist-packages (from datasets->nemo_toolkit->nemo_toolkit[asr]) (3.5.0)\n",
            "Requirement already satisfied: multiprocess<0.70.17 in /usr/local/lib/python3.12/dist-packages (from datasets->nemo_toolkit->nemo_toolkit[asr]) (0.70.16)\n",
            "Requirement already satisfied: absl-py in /usr/local/lib/python3.12/dist-packages (from fiddle->nemo_toolkit->nemo_toolkit[asr]) (1.4.0)\n",
            "Requirement already satisfied: graphviz in /usr/local/lib/python3.12/dist-packages (from fiddle->nemo_toolkit->nemo_toolkit[asr]) (0.21)\n",
            "Requirement already satisfied: libcst in /usr/local/lib/python3.12/dist-packages (from fiddle->nemo_toolkit->nemo_toolkit[asr]) (1.8.2)\n",
            "Requirement already satisfied: more_itertools>=8.5.0 in /usr/local/lib/python3.12/dist-packages (from inflect->nemo_toolkit->nemo_toolkit[asr]) (10.8.0)\n",
            "Requirement already satisfied: typeguard>=4.0.1 in /usr/local/lib/python3.12/dist-packages (from inflect->nemo_toolkit->nemo_toolkit[asr]) (4.4.4)\n",
            "Requirement already satisfied: docopt>=0.6.2 in /usr/local/lib/python3.12/dist-packages (from num2words->nemo_toolkit->nemo_toolkit[asr]) (0.6.2)\n",
            "Requirement already satisfied: alembic>=1.5.0 in /usr/local/lib/python3.12/dist-packages (from optuna->nemo_toolkit->nemo_toolkit[asr]) (1.16.5)\n",
            "Requirement already satisfied: colorlog in /usr/local/lib/python3.12/dist-packages (from optuna->nemo_toolkit->nemo_toolkit[asr]) (6.9.0)\n",
            "Requirement already satisfied: sqlalchemy>=1.4.2 in /usr/local/lib/python3.12/dist-packages (from optuna->nemo_toolkit->nemo_toolkit[asr]) (2.0.43)\n",
            "Requirement already satisfied: pytz>=2020.1 in /usr/local/lib/python3.12/dist-packages (from pandas->nemo_toolkit->nemo_toolkit[asr]) (2025.2)\n",
            "Requirement already satisfied: tzdata>=2022.7 in /usr/local/lib/python3.12/dist-packages (from pandas->nemo_toolkit->nemo_toolkit[asr]) (2025.2)\n",
            "Requirement already satisfied: six>=1.5 in /usr/local/lib/python3.12/dist-packages (from python-dateutil->nemo_toolkit->nemo_toolkit[asr]) (1.17.0)\n",
            "Requirement already satisfied: psutil in /usr/local/lib/python3.12/dist-packages (from peft->nemo_toolkit->nemo_toolkit[asr]) (5.9.5)\n",
            "Requirement already satisfied: accelerate>=0.21.0 in /usr/local/lib/python3.12/dist-packages (from peft->nemo_toolkit->nemo_toolkit[asr]) (1.10.1)\n",
            "Requirement already satisfied: sortedcontainers>=2.0.4 in /usr/local/lib/python3.12/dist-packages (from pyannote.core->nemo_toolkit->nemo_toolkit[asr]) (2.4.0)\n",
            "Requirement already satisfied: pyannote.database>=4.0.1 in /usr/local/lib/python3.12/dist-packages (from pyannote.metrics->nemo_toolkit->nemo_toolkit[asr]) (5.1.3)\n",
            "Requirement already satisfied: future>=0.16.0 in /usr/local/lib/python3.12/dist-packages (from pyloudnorm->nemo_toolkit->nemo_toolkit[asr]) (1.0.0)\n",
            "Requirement already satisfied: ruamel.yaml.clib>=0.2.7 in /usr/local/lib/python3.12/dist-packages (from ruamel.yaml->nemo_toolkit->nemo_toolkit[asr]) (0.2.12)\n",
            "Requirement already satisfied: grpcio>=1.48.2 in /usr/local/lib/python3.12/dist-packages (from tensorboard->nemo_toolkit->nemo_toolkit[asr]) (1.74.0)\n",
            "Requirement already satisfied: markdown>=2.6.8 in /usr/local/lib/python3.12/dist-packages (from tensorboard->nemo_toolkit->nemo_toolkit[asr]) (3.8.2)\n",
            "Requirement already satisfied: tensorboard-data-server<0.8.0,>=0.7.0 in /usr/local/lib/python3.12/dist-packages (from tensorboard->nemo_toolkit->nemo_toolkit[asr]) (0.7.2)\n",
            "Requirement already satisfied: werkzeug>=1.0.1 in /usr/local/lib/python3.12/dist-packages (from tensorboard->nemo_toolkit->nemo_toolkit[asr]) (3.1.3)\n",
            "Requirement already satisfied: gitpython!=3.1.29,>=1.0.0 in /usr/local/lib/python3.12/dist-packages (from wandb->nemo_toolkit->nemo_toolkit[asr]) (3.1.45)\n",
            "Requirement already satisfied: platformdirs in /usr/local/lib/python3.12/dist-packages (from wandb->nemo_toolkit->nemo_toolkit[asr]) (4.4.0)\n",
            "Requirement already satisfied: pydantic<3 in /usr/local/lib/python3.12/dist-packages (from wandb->nemo_toolkit->nemo_toolkit[asr]) (2.11.7)\n",
            "Requirement already satisfied: sentry-sdk>=2.0.0 in /usr/local/lib/python3.12/dist-packages (from wandb->nemo_toolkit->nemo_toolkit[asr]) (2.35.2)\n",
            "Requirement already satisfied: indic-numtowords in /usr/local/lib/python3.12/dist-packages (from whisper_normalizer->nemo_toolkit->nemo_toolkit[asr]) (1.1.0)\n",
            "Requirement already satisfied: Mako in /usr/local/lib/python3.12/dist-packages (from alembic>=1.5.0->optuna->nemo_toolkit->nemo_toolkit[asr]) (1.3.10)\n",
            "Requirement already satisfied: pycparser in /usr/local/lib/python3.12/dist-packages (from cffi>=1.0->soundfile->nemo_toolkit->nemo_toolkit[asr]) (2.22)\n",
            "Requirement already satisfied: toolz>=0.8.0 in /usr/local/lib/python3.12/dist-packages (from cytoolz>=0.10.1->lhotse!=1.31.0->nemo_toolkit->nemo_toolkit[asr]) (0.12.1)\n",
            "Requirement already satisfied: aiohttp!=4.0.0a0,!=4.0.0a1 in /usr/local/lib/python3.12/dist-packages (from fsspec[http]<2026.0,>=2022.5.0->lightning<=2.4.0,>2.2.1->nemo_toolkit->nemo_toolkit[asr]) (3.12.15)\n",
            "Requirement already satisfied: gitdb<5,>=4.0.1 in /usr/local/lib/python3.12/dist-packages (from gitpython!=3.1.29,>=1.0.0->wandb->nemo_toolkit->nemo_toolkit[asr]) (4.0.12)\n",
            "Requirement already satisfied: contourpy>=1.0.1 in /usr/local/lib/python3.12/dist-packages (from matplotlib->mediapy==1.1.6->nemo_toolkit->nemo_toolkit[asr]) (1.3.3)\n",
            "Requirement already satisfied: cycler>=0.10 in /usr/local/lib/python3.12/dist-packages (from matplotlib->mediapy==1.1.6->nemo_toolkit->nemo_toolkit[asr]) (0.12.1)\n",
            "Requirement already satisfied: fonttools>=4.22.0 in /usr/local/lib/python3.12/dist-packages (from matplotlib->mediapy==1.1.6->nemo_toolkit->nemo_toolkit[asr]) (4.59.2)\n",
            "Requirement already satisfied: kiwisolver>=1.3.1 in /usr/local/lib/python3.12/dist-packages (from matplotlib->mediapy==1.1.6->nemo_toolkit->nemo_toolkit[asr]) (1.4.9)\n",
            "Requirement already satisfied: pyparsing>=2.3.1 in /usr/local/lib/python3.12/dist-packages (from matplotlib->mediapy==1.1.6->nemo_toolkit->nemo_toolkit[asr]) (3.2.3)\n",
            "Requirement already satisfied: typer>=0.12.1 in /usr/local/lib/python3.12/dist-packages (from pyannote.database>=4.0.1->pyannote.metrics->nemo_toolkit->nemo_toolkit[asr]) (0.17.3)\n",
            "Requirement already satisfied: annotated-types>=0.6.0 in /usr/local/lib/python3.12/dist-packages (from pydantic<3->wandb->nemo_toolkit->nemo_toolkit[asr]) (0.7.0)\n",
            "Requirement already satisfied: pydantic-core==2.33.2 in /usr/local/lib/python3.12/dist-packages (from pydantic<3->wandb->nemo_toolkit->nemo_toolkit[asr]) (2.33.2)\n",
            "Requirement already satisfied: typing-inspection>=0.4.0 in /usr/local/lib/python3.12/dist-packages (from pydantic<3->wandb->nemo_toolkit->nemo_toolkit[asr]) (0.4.1)\n",
            "Requirement already satisfied: charset_normalizer<4,>=2 in /usr/local/lib/python3.12/dist-packages (from requests->huggingface_hub>=0.24->nemo_toolkit->nemo_toolkit[asr]) (3.4.3)\n",
            "Requirement already satisfied: idna<4,>=2.5 in /usr/local/lib/python3.12/dist-packages (from requests->huggingface_hub>=0.24->nemo_toolkit->nemo_toolkit[asr]) (3.10)\n",
            "Requirement already satisfied: urllib3<3,>=1.21.1 in /usr/local/lib/python3.12/dist-packages (from requests->huggingface_hub>=0.24->nemo_toolkit->nemo_toolkit[asr]) (2.5.0)\n",
            "Requirement already satisfied: certifi>=2017.4.17 in /usr/local/lib/python3.12/dist-packages (from requests->huggingface_hub>=0.24->nemo_toolkit->nemo_toolkit[asr]) (2025.8.3)\n",
            "Requirement already satisfied: greenlet>=1 in /usr/local/lib/python3.12/dist-packages (from sqlalchemy>=1.4.2->optuna->nemo_toolkit->nemo_toolkit[asr]) (3.2.4)\n",
            "Requirement already satisfied: mpmath<1.4,>=1.1.0 in /usr/local/lib/python3.12/dist-packages (from sympy>=1.13.3->torch->nemo_toolkit->nemo_toolkit[asr]) (1.3.0)\n",
            "Requirement already satisfied: MarkupSafe>=2.1.1 in /usr/local/lib/python3.12/dist-packages (from werkzeug>=1.0.1->tensorboard->nemo_toolkit->nemo_toolkit[asr]) (3.0.2)\n",
            "Requirement already satisfied: jedi>=0.16 in /usr/local/lib/python3.12/dist-packages (from ipython->mediapy==1.1.6->nemo_toolkit->nemo_toolkit[asr]) (0.19.2)\n",
            "Requirement already satisfied: pickleshare in /usr/local/lib/python3.12/dist-packages (from ipython->mediapy==1.1.6->nemo_toolkit->nemo_toolkit[asr]) (0.7.5)\n",
            "Requirement already satisfied: traitlets>=4.2 in /usr/local/lib/python3.12/dist-packages (from ipython->mediapy==1.1.6->nemo_toolkit->nemo_toolkit[asr]) (5.7.1)\n",
            "Requirement already satisfied: prompt-toolkit!=3.0.0,!=3.0.1,<3.1.0,>=2.0.0 in /usr/local/lib/python3.12/dist-packages (from ipython->mediapy==1.1.6->nemo_toolkit->nemo_toolkit[asr]) (3.0.52)\n",
            "Requirement already satisfied: pygments in /usr/local/lib/python3.12/dist-packages (from ipython->mediapy==1.1.6->nemo_toolkit->nemo_toolkit[asr]) (2.19.2)\n",
            "Requirement already satisfied: backcall in /usr/local/lib/python3.12/dist-packages (from ipython->mediapy==1.1.6->nemo_toolkit->nemo_toolkit[asr]) (0.2.0)\n",
            "Requirement already satisfied: matplotlib-inline in /usr/local/lib/python3.12/dist-packages (from ipython->mediapy==1.1.6->nemo_toolkit->nemo_toolkit[asr]) (0.1.7)\n",
            "Requirement already satisfied: pexpect>4.3 in /usr/local/lib/python3.12/dist-packages (from ipython->mediapy==1.1.6->nemo_toolkit->nemo_toolkit[asr]) (4.9.0)\n",
            "Requirement already satisfied: aiohappyeyeballs>=2.5.0 in /usr/local/lib/python3.12/dist-packages (from aiohttp!=4.0.0a0,!=4.0.0a1->fsspec[http]<2026.0,>=2022.5.0->lightning<=2.4.0,>2.2.1->nemo_toolkit->nemo_toolkit[asr]) (2.6.1)\n",
            "Requirement already satisfied: aiosignal>=1.4.0 in /usr/local/lib/python3.12/dist-packages (from aiohttp!=4.0.0a0,!=4.0.0a1->fsspec[http]<2026.0,>=2022.5.0->lightning<=2.4.0,>2.2.1->nemo_toolkit->nemo_toolkit[asr]) (1.4.0)\n",
            "Requirement already satisfied: attrs>=17.3.0 in /usr/local/lib/python3.12/dist-packages (from aiohttp!=4.0.0a0,!=4.0.0a1->fsspec[http]<2026.0,>=2022.5.0->lightning<=2.4.0,>2.2.1->nemo_toolkit->nemo_toolkit[asr]) (25.3.0)\n",
            "Requirement already satisfied: frozenlist>=1.1.1 in /usr/local/lib/python3.12/dist-packages (from aiohttp!=4.0.0a0,!=4.0.0a1->fsspec[http]<2026.0,>=2022.5.0->lightning<=2.4.0,>2.2.1->nemo_toolkit->nemo_toolkit[asr]) (1.7.0)\n",
            "Requirement already satisfied: multidict<7.0,>=4.5 in /usr/local/lib/python3.12/dist-packages (from aiohttp!=4.0.0a0,!=4.0.0a1->fsspec[http]<2026.0,>=2022.5.0->lightning<=2.4.0,>2.2.1->nemo_toolkit->nemo_toolkit[asr]) (6.6.4)\n",
            "Requirement already satisfied: propcache>=0.2.0 in /usr/local/lib/python3.12/dist-packages (from aiohttp!=4.0.0a0,!=4.0.0a1->fsspec[http]<2026.0,>=2022.5.0->lightning<=2.4.0,>2.2.1->nemo_toolkit->nemo_toolkit[asr]) (0.3.2)\n",
            "Requirement already satisfied: yarl<2.0,>=1.17.0 in /usr/local/lib/python3.12/dist-packages (from aiohttp!=4.0.0a0,!=4.0.0a1->fsspec[http]<2026.0,>=2022.5.0->lightning<=2.4.0,>2.2.1->nemo_toolkit->nemo_toolkit[asr]) (1.20.1)\n",
            "Requirement already satisfied: smmap<6,>=3.0.1 in /usr/local/lib/python3.12/dist-packages (from gitdb<5,>=4.0.1->gitpython!=3.1.29,>=1.0.0->wandb->nemo_toolkit->nemo_toolkit[asr]) (5.0.2)\n",
            "Requirement already satisfied: parso<0.9.0,>=0.8.4 in /usr/local/lib/python3.12/dist-packages (from jedi>=0.16->ipython->mediapy==1.1.6->nemo_toolkit->nemo_toolkit[asr]) (0.8.5)\n",
            "Requirement already satisfied: ptyprocess>=0.5 in /usr/local/lib/python3.12/dist-packages (from pexpect>4.3->ipython->mediapy==1.1.6->nemo_toolkit->nemo_toolkit[asr]) (0.7.0)\n",
            "Requirement already satisfied: wcwidth in /usr/local/lib/python3.12/dist-packages (from prompt-toolkit!=3.0.0,!=3.0.1,<3.1.0,>=2.0.0->ipython->mediapy==1.1.6->nemo_toolkit->nemo_toolkit[asr]) (0.2.13)\n",
            "Requirement already satisfied: shellingham>=1.3.0 in /usr/local/lib/python3.12/dist-packages (from typer>=0.12.1->pyannote.database>=4.0.1->pyannote.metrics->nemo_toolkit->nemo_toolkit[asr]) (1.5.4)\n",
            "Requirement already satisfied: rich>=10.11.0 in /usr/local/lib/python3.12/dist-packages (from typer>=0.12.1->pyannote.database>=4.0.1->pyannote.metrics->nemo_toolkit->nemo_toolkit[asr]) (13.9.4)\n",
            "Requirement already satisfied: markdown-it-py>=2.2.0 in /usr/local/lib/python3.12/dist-packages (from rich>=10.11.0->typer>=0.12.1->pyannote.database>=4.0.1->pyannote.metrics->nemo_toolkit->nemo_toolkit[asr]) (4.0.0)\n",
            "Requirement already satisfied: mdurl~=0.1 in /usr/local/lib/python3.12/dist-packages (from markdown-it-py>=2.2.0->rich>=10.11.0->typer>=0.12.1->pyannote.database>=4.0.1->pyannote.metrics->nemo_toolkit->nemo_toolkit[asr]) (0.1.2)\n",
            "Looking in links: https://download.pytorch.org/whl/torch_stable.html\n",
            "Requirement already satisfied: torchaudio in /usr/local/lib/python3.12/dist-packages (2.8.0+cu126)\n",
            "Requirement already satisfied: torch==2.8.0 in /usr/local/lib/python3.12/dist-packages (from torchaudio) (2.8.0+cu126)\n",
            "Requirement already satisfied: filelock in /usr/local/lib/python3.12/dist-packages (from torch==2.8.0->torchaudio) (3.19.1)\n",
            "Requirement already satisfied: typing-extensions>=4.10.0 in /usr/local/lib/python3.12/dist-packages (from torch==2.8.0->torchaudio) (4.15.0)\n",
            "Requirement already satisfied: setuptools in /usr/local/lib/python3.12/dist-packages (from torch==2.8.0->torchaudio) (75.2.0)\n",
            "Requirement already satisfied: sympy>=1.13.3 in /usr/local/lib/python3.12/dist-packages (from torch==2.8.0->torchaudio) (1.13.3)\n",
            "Requirement already satisfied: networkx in /usr/local/lib/python3.12/dist-packages (from torch==2.8.0->torchaudio) (3.5)\n",
            "Requirement already satisfied: jinja2 in /usr/local/lib/python3.12/dist-packages (from torch==2.8.0->torchaudio) (3.1.6)\n",
            "Requirement already satisfied: fsspec in /usr/local/lib/python3.12/dist-packages (from torch==2.8.0->torchaudio) (2024.12.0)\n",
            "Requirement already satisfied: nvidia-cuda-nvrtc-cu12==12.6.77 in /usr/local/lib/python3.12/dist-packages (from torch==2.8.0->torchaudio) (12.6.77)\n",
            "Requirement already satisfied: nvidia-cuda-runtime-cu12==12.6.77 in /usr/local/lib/python3.12/dist-packages (from torch==2.8.0->torchaudio) (12.6.77)\n",
            "Requirement already satisfied: nvidia-cuda-cupti-cu12==12.6.80 in /usr/local/lib/python3.12/dist-packages (from torch==2.8.0->torchaudio) (12.6.80)\n",
            "Requirement already satisfied: nvidia-cudnn-cu12==9.10.2.21 in /usr/local/lib/python3.12/dist-packages (from torch==2.8.0->torchaudio) (9.10.2.21)\n",
            "Requirement already satisfied: nvidia-cublas-cu12==12.6.4.1 in /usr/local/lib/python3.12/dist-packages (from torch==2.8.0->torchaudio) (12.6.4.1)\n",
            "Requirement already satisfied: nvidia-cufft-cu12==11.3.0.4 in /usr/local/lib/python3.12/dist-packages (from torch==2.8.0->torchaudio) (11.3.0.4)\n",
            "Requirement already satisfied: nvidia-curand-cu12==10.3.7.77 in /usr/local/lib/python3.12/dist-packages (from torch==2.8.0->torchaudio) (10.3.7.77)\n",
            "Requirement already satisfied: nvidia-cusolver-cu12==11.7.1.2 in /usr/local/lib/python3.12/dist-packages (from torch==2.8.0->torchaudio) (11.7.1.2)\n",
            "Requirement already satisfied: nvidia-cusparse-cu12==12.5.4.2 in /usr/local/lib/python3.12/dist-packages (from torch==2.8.0->torchaudio) (12.5.4.2)\n",
            "Requirement already satisfied: nvidia-cusparselt-cu12==0.7.1 in /usr/local/lib/python3.12/dist-packages (from torch==2.8.0->torchaudio) (0.7.1)\n",
            "Requirement already satisfied: nvidia-nccl-cu12==2.27.3 in /usr/local/lib/python3.12/dist-packages (from torch==2.8.0->torchaudio) (2.27.3)\n",
            "Requirement already satisfied: nvidia-nvtx-cu12==12.6.77 in /usr/local/lib/python3.12/dist-packages (from torch==2.8.0->torchaudio) (12.6.77)\n",
            "Requirement already satisfied: nvidia-nvjitlink-cu12==12.6.85 in /usr/local/lib/python3.12/dist-packages (from torch==2.8.0->torchaudio) (12.6.85)\n",
            "Requirement already satisfied: nvidia-cufile-cu12==1.11.1.6 in /usr/local/lib/python3.12/dist-packages (from torch==2.8.0->torchaudio) (1.11.1.6)\n",
            "Requirement already satisfied: triton==3.4.0 in /usr/local/lib/python3.12/dist-packages (from torch==2.8.0->torchaudio) (3.4.0)\n",
            "Requirement already satisfied: mpmath<1.4,>=1.1.0 in /usr/local/lib/python3.12/dist-packages (from sympy>=1.13.3->torch==2.8.0->torchaudio) (1.3.0)\n",
            "Requirement already satisfied: MarkupSafe>=2.0 in /usr/local/lib/python3.12/dist-packages (from jinja2->torch==2.8.0->torchaudio) (3.0.2)\n"
          ]
        }
      ],
      "source": [
        "\"\"\"\n",
        "You can run either this notebook locally (if you have all the dependencies and a GPU) or on Google Colab.\n",
        "\n",
        "Instructions for setting up Colab are as follows:\n",
        "1. Open a new Python 3 notebook.\n",
        "2. Import this notebook from GitHub (File -> Upload Notebook -> \"GITHUB\" tab -> copy/paste GitHub URL)\n",
        "3. Connect to an instance with a GPU (Runtime -> Change runtime type -> select \"GPU\" for hardware accelerator)\n",
        "4. Run this cell to set up dependencies.\n",
        "\"\"\"\n",
        "# If you're using Google Colab and not running locally, run this cell.\n",
        "\n",
        "## Install dependencies\n",
        "!pip install wget\n",
        "!apt-get install sox libsndfile1 ffmpeg\n",
        "!pip install text-unidecode\n",
        "!pip install ipython\n",
        "!pip install numpy==1.23.5\n",
        "\n",
        "# ## Install NeMo\n",
        "BRANCH = 'main'\n",
        "!python -m pip install git+https://github.com/NVIDIA/NeMo.git@{BRANCH}#egg=nemo_toolkit[asr]\n",
        "\n",
        "## Install TorchAudio\n",
        "!pip install torchaudio -f https://download.pytorch.org/whl/torch_stable.html"
      ]
    },
    {
      "cell_type": "code",
      "source": [
        "!pip list"
      ],
      "metadata": {
        "id": "Z8e8MkdcWZgj",
        "outputId": "a3596662-b581-4564-c937-4db26245aba9",
        "colab": {
          "base_uri": "https://localhost:8080/"
        }
      },
      "execution_count": 10,
      "outputs": [
        {
          "output_type": "stream",
          "name": "stdout",
          "text": [
            "Package                               Version\n",
            "------------------------------------- ------------------\n",
            "absl-py                               1.4.0\n",
            "absolufy-imports                      0.3.1\n",
            "accelerate                            1.10.1\n",
            "aiofiles                              24.1.0\n",
            "aiohappyeyeballs                      2.6.1\n",
            "aiohttp                               3.12.15\n",
            "aiosignal                             1.4.0\n",
            "alabaster                             1.0.0\n",
            "albucore                              0.0.24\n",
            "albumentations                        2.0.8\n",
            "ale-py                                0.11.2\n",
            "alembic                               1.16.5\n",
            "altair                                5.5.0\n",
            "annotated-types                       0.7.0\n",
            "antlr4-python3-runtime                4.9.3\n",
            "anyio                                 4.10.0\n",
            "anywidget                             0.9.18\n",
            "argon2-cffi                           25.1.0\n",
            "argon2-cffi-bindings                  25.1.0\n",
            "array_record                          0.8.1\n",
            "arrow                                 1.3.0\n",
            "arviz                                 0.22.0\n",
            "astropy                               7.1.0\n",
            "astropy-iers-data                     0.2025.9.1.0.42.11\n",
            "astunparse                            1.6.3\n",
            "atpublic                              5.1\n",
            "attrs                                 25.3.0\n",
            "audioread                             3.0.1\n",
            "Authlib                               1.6.3\n",
            "autograd                              1.8.0\n",
            "babel                                 2.17.0\n",
            "backcall                              0.2.0\n",
            "beartype                              0.21.0\n",
            "beautifulsoup4                        4.13.5\n",
            "betterproto                           2.0.0b6\n",
            "bigframes                             2.17.0\n",
            "bigquery-magics                       0.10.3\n",
            "bitsandbytes                          0.46.0\n",
            "bleach                                6.2.0\n",
            "blinker                               1.9.0\n",
            "blis                                  1.3.0\n",
            "blobfile                              3.0.0\n",
            "blosc2                                3.7.2\n",
            "bokeh                                 3.7.3\n",
            "Bottleneck                            1.4.2\n",
            "bqplot                                0.12.45\n",
            "braceexpand                           0.1.7\n",
            "branca                                0.8.1\n",
            "Brotli                                1.1.0\n",
            "build                                 1.3.0\n",
            "CacheControl                          0.14.3\n",
            "cachetools                            5.5.2\n",
            "catalogue                             2.0.10\n",
            "certifi                               2025.8.3\n",
            "cffi                                  1.17.1\n",
            "chardet                               5.2.0\n",
            "charset-normalizer                    3.4.3\n",
            "chex                                  0.1.90\n",
            "clarabel                              0.11.1\n",
            "click                                 8.2.1\n",
            "cloudpathlib                          0.22.0\n",
            "cloudpickle                           3.1.1\n",
            "cmake                                 3.31.6\n",
            "cmdstanpy                             1.2.5\n",
            "colorcet                              3.1.0\n",
            "colorlog                              6.9.0\n",
            "colorlover                            0.3.0\n",
            "colour                                0.1.5\n",
            "community                             1.0.0b1\n",
            "confection                            0.1.5\n",
            "cons                                  0.4.7\n",
            "contourpy                             1.3.3\n",
            "cramjam                               2.11.0\n",
            "cryptography                          43.0.3\n",
            "cuda-python                           12.6.2.post1\n",
            "cudf-cu12                             25.6.0\n",
            "cudf-polars-cu12                      25.6.0\n",
            "cufflinks                             0.17.3\n",
            "cuml-cu12                             25.6.0\n",
            "cupy-cuda12x                          13.3.0\n",
            "curl_cffi                             0.13.0\n",
            "cuvs-cu12                             25.6.1\n",
            "cvxopt                                1.3.2\n",
            "cvxpy                                 1.6.7\n",
            "cycler                                0.12.1\n",
            "cyipopt                               1.5.0\n",
            "cymem                                 2.0.11\n",
            "Cython                                3.0.12\n",
            "cytoolz                               1.0.1\n",
            "dask                                  2025.5.0\n",
            "dask-cuda                             25.6.0\n",
            "dask-cudf-cu12                        25.6.0\n",
            "dataproc-spark-connect                0.8.3\n",
            "datasets                              4.0.0\n",
            "db-dtypes                             1.4.3\n",
            "dbus-python                           1.2.18\n",
            "debugpy                               1.8.15\n",
            "decorator                             4.4.2\n",
            "defusedxml                            0.7.1\n",
            "diffusers                             0.35.1\n",
            "dill                                  0.3.8\n",
            "distributed                           2025.5.0\n",
            "distributed-ucxx-cu12                 0.44.0\n",
            "distro                                1.9.0\n",
            "dlib                                  19.24.6\n",
            "dm-tree                               0.1.9\n",
            "docopt                                0.6.2\n",
            "docstring_parser                      0.17.0\n",
            "docutils                              0.21.2\n",
            "dopamine_rl                           4.1.2\n",
            "duckdb                                1.3.2\n",
            "earthengine-api                       1.5.24\n",
            "easydict                              1.13\n",
            "editdistance                          0.8.1\n",
            "eerepr                                0.1.2\n",
            "einops                                0.8.1\n",
            "en_core_web_sm                        3.8.0\n",
            "entrypoints                           0.4\n",
            "et_xmlfile                            2.0.0\n",
            "etils                                 1.13.0\n",
            "etuples                               0.3.10\n",
            "Farama-Notifications                  0.0.4\n",
            "fastai                                2.8.4\n",
            "fastapi                               0.116.1\n",
            "fastcore                              1.8.8\n",
            "fastdownload                          0.0.7\n",
            "fastjsonschema                        2.21.2\n",
            "fastprogress                          1.0.3\n",
            "fastrlock                             0.8.3\n",
            "fasttransform                         0.0.2\n",
            "ffmpy                                 0.6.1\n",
            "fiddle                                0.3.0\n",
            "filelock                              3.19.1\n",
            "firebase-admin                        6.9.0\n",
            "Flask                                 3.1.2\n",
            "flatbuffers                           25.2.10\n",
            "flax                                  0.10.6\n",
            "folium                                0.20.0\n",
            "fonttools                             4.59.2\n",
            "fqdn                                  1.5.1\n",
            "frozendict                            2.4.6\n",
            "frozenlist                            1.7.0\n",
            "fsspec                                2024.12.0\n",
            "future                                1.0.0\n",
            "gast                                  0.6.0\n",
            "gcsfs                                 2025.3.0\n",
            "GDAL                                  3.8.4\n",
            "gdown                                 5.2.0\n",
            "geemap                                0.35.3\n",
            "geocoder                              1.38.1\n",
            "geographiclib                         2.1\n",
            "geopandas                             1.1.1\n",
            "geopy                                 2.4.1\n",
            "gin-config                            0.5.0\n",
            "gitdb                                 4.0.12\n",
            "GitPython                             3.1.45\n",
            "glob2                                 0.7\n",
            "google                                2.0.3\n",
            "google-adk                            1.13.0\n",
            "google-ai-generativelanguage          0.6.15\n",
            "google-api-core                       2.25.1\n",
            "google-api-python-client              2.181.0\n",
            "google-auth                           2.38.0\n",
            "google-auth-httplib2                  0.2.0\n",
            "google-auth-oauthlib                  1.2.2\n",
            "google-cloud-aiplatform               1.111.0\n",
            "google-cloud-appengine-logging        1.6.2\n",
            "google-cloud-audit-log                0.3.2\n",
            "google-cloud-bigquery                 3.36.0\n",
            "google-cloud-bigquery-connection      1.18.3\n",
            "google-cloud-bigquery-storage         2.32.0\n",
            "google-cloud-bigtable                 2.32.0\n",
            "google-cloud-core                     2.4.3\n",
            "google-cloud-dataproc                 5.21.0\n",
            "google-cloud-datastore                2.21.0\n",
            "google-cloud-firestore                2.21.0\n",
            "google-cloud-functions                1.20.4\n",
            "google-cloud-language                 2.17.2\n",
            "google-cloud-logging                  3.12.1\n",
            "google-cloud-resource-manager         1.14.2\n",
            "google-cloud-secret-manager           2.24.0\n",
            "google-cloud-spanner                  3.57.0\n",
            "google-cloud-speech                   2.33.0\n",
            "google-cloud-storage                  2.19.0\n",
            "google-cloud-trace                    1.16.2\n",
            "google-cloud-translate                3.21.1\n",
            "google-colab                          1.0.0\n",
            "google-crc32c                         1.7.1\n",
            "google-genai                          1.32.0\n",
            "google-generativeai                   0.8.5\n",
            "google-pasta                          0.2.0\n",
            "google-resumable-media                2.7.2\n",
            "googleapis-common-protos              1.70.0\n",
            "googledrivedownloader                 1.1.0\n",
            "gradio                                5.44.1\n",
            "gradio_client                         1.12.1\n",
            "graphviz                              0.21\n",
            "greenlet                              3.2.4\n",
            "groovy                                0.1.2\n",
            "grpc-google-iam-v1                    0.14.2\n",
            "grpc-interceptor                      0.15.4\n",
            "grpcio                                1.74.0\n",
            "grpcio-status                         1.71.2\n",
            "grpclib                               0.4.8\n",
            "gspread                               6.2.1\n",
            "gspread-dataframe                     4.0.0\n",
            "gym                                   0.25.2\n",
            "gym-notices                           0.1.0\n",
            "gymnasium                             1.2.0\n",
            "h11                                   0.16.0\n",
            "h2                                    4.3.0\n",
            "h5netcdf                              1.6.4\n",
            "h5py                                  3.14.0\n",
            "hdbscan                               0.8.40\n",
            "hf_transfer                           0.1.9\n",
            "hf-xet                                1.1.9\n",
            "highspy                               1.11.0\n",
            "holidays                              0.80\n",
            "holoviews                             1.21.0\n",
            "hpack                                 4.1.0\n",
            "html5lib                              1.1\n",
            "httpcore                              1.0.9\n",
            "httpimport                            1.4.1\n",
            "httplib2                              0.30.0\n",
            "httpx                                 0.28.1\n",
            "httpx-sse                             0.4.1\n",
            "huggingface-hub                       0.34.4\n",
            "humanize                              4.13.0\n",
            "hydra-core                            1.3.2\n",
            "hyperframe                            6.1.0\n",
            "hyperopt                              0.2.7\n",
            "ibis-framework                        9.5.0\n",
            "idna                                  3.10\n",
            "imageio                               2.37.0\n",
            "imageio-ffmpeg                        0.6.0\n",
            "imagesize                             1.4.1\n",
            "imbalanced-learn                      0.14.0\n",
            "immutabledict                         4.2.1\n",
            "importlib_metadata                    8.7.0\n",
            "importlib_resources                   6.5.2\n",
            "imutils                               0.5.4\n",
            "indic_numtowords                      1.1.0\n",
            "inflect                               7.5.0\n",
            "iniconfig                             2.1.0\n",
            "intel-cmplr-lib-ur                    2025.2.1\n",
            "intel-openmp                          2025.2.1\n",
            "intervaltree                          3.1.0\n",
            "ipyevents                             2.0.2\n",
            "ipyfilechooser                        0.6.0\n",
            "ipykernel                             6.17.1\n",
            "ipyleaflet                            0.20.0\n",
            "ipyparallel                           8.8.0\n",
            "ipython                               7.34.0\n",
            "ipython-genutils                      0.2.0\n",
            "ipython-sql                           0.5.0\n",
            "ipytree                               0.2.2\n",
            "ipywidgets                            7.7.1\n",
            "isoduration                           20.11.0\n",
            "itsdangerous                          2.2.0\n",
            "jaraco.classes                        3.4.0\n",
            "jaraco.context                        6.0.1\n",
            "jaraco.functools                      4.3.0\n",
            "jax                                   0.5.3\n",
            "jax-cuda12-pjrt                       0.5.3\n",
            "jax-cuda12-plugin                     0.5.3\n",
            "jaxlib                                0.5.3\n",
            "jedi                                  0.19.2\n",
            "jeepney                               0.9.0\n",
            "jieba                                 0.42.1\n",
            "Jinja2                                3.1.6\n",
            "jiter                                 0.10.0\n",
            "jiwer                                 3.1.0\n",
            "joblib                                1.5.2\n",
            "jsonpatch                             1.33\n",
            "jsonpickle                            4.1.1\n",
            "jsonpointer                           3.0.0\n",
            "jsonschema                            4.25.1\n",
            "jsonschema-specifications             2025.4.1\n",
            "jupyter_client                        7.4.9\n",
            "jupyter-console                       6.6.3\n",
            "jupyter_core                          5.8.1\n",
            "jupyter-events                        0.12.0\n",
            "jupyter_kernel_gateway                2.5.2\n",
            "jupyter-leaflet                       0.20.0\n",
            "jupyter_server                        2.14.0\n",
            "jupyter_server_terminals              0.5.3\n",
            "jupyterlab_pygments                   0.3.0\n",
            "jupyterlab_widgets                    3.0.15\n",
            "jupytext                              1.17.3\n",
            "kaggle                                1.7.4.5\n",
            "kagglehub                             0.3.13\n",
            "kaldi-python-io                       1.2.2\n",
            "keras                                 3.10.0\n",
            "keras-hub                             0.21.1\n",
            "keras-nlp                             0.21.1\n",
            "keyring                               25.6.0\n",
            "keyrings.google-artifactregistry-auth 1.1.2\n",
            "kiwisolver                            1.4.9\n",
            "langchain                             0.3.27\n",
            "langchain-core                        0.3.75\n",
            "langchain-text-splitters              0.3.11\n",
            "langcodes                             3.5.0\n",
            "langsmith                             0.4.23\n",
            "language_data                         1.3.0\n",
            "lark                                  1.2.2\n",
            "launchpadlib                          1.10.16\n",
            "lazr.restfulclient                    0.14.4\n",
            "lazr.uri                              1.0.6\n",
            "lazy_loader                           0.4\n",
            "Levenshtein                           0.27.1\n",
            "lhotse                                1.30.3\n",
            "libclang                              18.1.1\n",
            "libcst                                1.8.2\n",
            "libcudf-cu12                          25.6.0\n",
            "libcugraph-cu12                       25.6.0\n",
            "libcuml-cu12                          25.6.0\n",
            "libcuvs-cu12                          25.6.1\n",
            "libkvikio-cu12                        25.6.0\n",
            "libpysal                              4.13.0\n",
            "libraft-cu12                          25.6.0\n",
            "librmm-cu12                           25.6.0\n",
            "librosa                               0.11.0\n",
            "libucx-cu12                           1.18.1\n",
            "libucxx-cu12                          0.44.0\n",
            "lightgbm                              4.6.0\n",
            "lightning                             2.4.0\n",
            "lightning-utilities                   0.15.2\n",
            "lilcom                                1.8.1\n",
            "linkify-it-py                         2.0.3\n",
            "llvmlite                              0.43.0\n",
            "locket                                1.0.0\n",
            "logical-unification                   0.4.6\n",
            "loguru                                0.7.3\n",
            "lxml                                  5.4.0\n",
            "Mako                                  1.3.10\n",
            "marisa-trie                           1.3.1\n",
            "Markdown                              3.8.2\n",
            "markdown-it-py                        4.0.0\n",
            "MarkupSafe                            3.0.2\n",
            "marshmallow                           4.0.1\n",
            "matplotlib                            3.10.0\n",
            "matplotlib-inline                     0.1.7\n",
            "matplotlib-venn                       1.1.2\n",
            "mcp                                   1.13.1\n",
            "mdit-py-plugins                       0.5.0\n",
            "mdurl                                 0.1.2\n",
            "mediapy                               1.1.6\n",
            "miniKanren                            1.0.5\n",
            "missingno                             0.5.2\n",
            "mistune                               3.1.4\n",
            "mizani                                0.13.5\n",
            "mkl                                   2025.2.0\n",
            "ml_dtypes                             0.5.3\n",
            "mlxtend                               0.23.4\n",
            "more-itertools                        10.8.0\n",
            "moviepy                               1.0.3\n",
            "mpmath                                1.3.0\n",
            "msgpack                               1.1.1\n",
            "multidict                             6.6.4\n",
            "multipledispatch                      1.0.0\n",
            "multiprocess                          0.70.16\n",
            "multitasking                          0.0.12\n",
            "murmurhash                            1.0.13\n",
            "music21                               9.3.0\n",
            "namex                                 0.1.0\n",
            "narwhals                              2.3.0\n",
            "natsort                               8.4.0\n",
            "nbclassic                             1.3.1\n",
            "nbclient                              0.10.2\n",
            "nbconvert                             7.16.6\n",
            "nbformat                              5.10.4\n",
            "ndindex                               1.10.0\n",
            "nemo-toolkit                          2.6.0rc0\n",
            "nest-asyncio                          1.6.0\n",
            "networkx                              3.5\n",
            "nibabel                               5.3.2\n",
            "nltk                                  3.9.1\n",
            "notebook                              6.5.7\n",
            "notebook_shim                         0.2.4\n",
            "num2words                             0.5.14\n",
            "numba                                 0.60.0\n",
            "numba-cuda                            0.11.0\n",
            "numexpr                               2.11.0\n",
            "numpy                                 1.26.4\n",
            "nvidia-cublas-cu12                    12.6.4.1\n",
            "nvidia-cuda-cupti-cu12                12.6.80\n",
            "nvidia-cuda-nvcc-cu12                 12.5.82\n",
            "nvidia-cuda-nvrtc-cu12                12.6.77\n",
            "nvidia-cuda-runtime-cu12              12.6.77\n",
            "nvidia-cudnn-cu12                     9.10.2.21\n",
            "nvidia-cufft-cu12                     11.3.0.4\n",
            "nvidia-cufile-cu12                    1.11.1.6\n",
            "nvidia-curand-cu12                    10.3.7.77\n",
            "nvidia-cusolver-cu12                  11.7.1.2\n",
            "nvidia-cusparse-cu12                  12.5.4.2\n",
            "nvidia-cusparselt-cu12                0.7.1\n",
            "nvidia-ml-py                          12.575.51\n",
            "nvidia-nccl-cu12                      2.27.3\n",
            "nvidia-nvjitlink-cu12                 12.6.85\n",
            "nvidia-nvtx-cu12                      12.6.77\n",
            "nvtx                                  0.2.13\n",
            "nx-cugraph-cu12                       25.6.0\n",
            "oauth2client                          4.1.3\n",
            "oauthlib                              3.3.1\n",
            "omegaconf                             2.3.0\n",
            "onnx                                  1.19.0\n",
            "openai                                1.104.2\n",
            "opencv-contrib-python                 4.12.0.88\n",
            "opencv-python                         4.12.0.88\n",
            "opencv-python-headless                4.12.0.88\n",
            "openpyxl                              3.1.5\n",
            "opentelemetry-api                     1.36.0\n",
            "opentelemetry-exporter-gcp-trace      1.9.0\n",
            "opentelemetry-resourcedetector-gcp    1.9.0a0\n",
            "opentelemetry-sdk                     1.36.0\n",
            "opentelemetry-semantic-conventions    0.57b0\n",
            "opt_einsum                            3.4.0\n",
            "optax                                 0.2.5\n",
            "optree                                0.17.0\n",
            "optuna                                4.5.0\n",
            "orbax-checkpoint                      0.11.24\n",
            "orjson                                3.11.3\n",
            "osqp                                  1.0.4\n",
            "overrides                             7.7.0\n",
            "packaging                             24.2\n",
            "pandas                                2.2.2\n",
            "pandas-datareader                     0.10.0\n",
            "pandas-gbq                            0.29.2\n",
            "pandas-stubs                          2.2.2.240909\n",
            "pandocfilters                         1.5.1\n",
            "panel                                 1.7.5\n",
            "param                                 2.2.1\n",
            "parso                                 0.8.5\n",
            "parsy                                 2.1\n",
            "partd                                 1.4.2\n",
            "patsy                                 1.0.1\n",
            "peewee                                3.18.2\n",
            "peft                                  0.17.1\n",
            "pexpect                               4.9.0\n",
            "pickleshare                           0.7.5\n",
            "pillow                                11.3.0\n",
            "pip                                   24.1.2\n",
            "plac                                  1.4.5\n",
            "platformdirs                          4.4.0\n",
            "plotly                                5.24.1\n",
            "plotnine                              0.14.5\n",
            "pluggy                                1.6.0\n",
            "plum-dispatch                         2.5.7\n",
            "ply                                   3.11\n",
            "polars                                1.25.2\n",
            "pooch                                 1.8.2\n",
            "portpicker                            1.5.2\n",
            "preshed                               3.0.10\n",
            "prettytable                           3.16.0\n",
            "proglog                               0.1.12\n",
            "progressbar2                          4.5.0\n",
            "prometheus_client                     0.22.1\n",
            "promise                               2.3\n",
            "prompt_toolkit                        3.0.52\n",
            "propcache                             0.3.2\n",
            "prophet                               1.1.7\n",
            "proto-plus                            1.26.1\n",
            "protobuf                              5.29.5\n",
            "psutil                                5.9.5\n",
            "psycopg2                              2.9.10\n",
            "psygnal                               0.14.1\n",
            "ptyprocess                            0.7.0\n",
            "py-cpuinfo                            9.0.0\n",
            "py4j                                  0.10.9.7\n",
            "pyannote.core                         5.0.0\n",
            "pyannote.database                     5.1.3\n",
            "pyannote.metrics                      3.2.1\n",
            "pyarrow                               18.1.0\n",
            "pyasn1                                0.6.1\n",
            "pyasn1_modules                        0.4.2\n",
            "pybind11                              3.0.1\n",
            "pycairo                               1.28.0\n",
            "pycocotools                           2.0.10\n",
            "pycparser                             2.22\n",
            "pycryptodomex                         3.23.0\n",
            "pydantic                              2.11.7\n",
            "pydantic_core                         2.33.2\n",
            "pydantic-settings                     2.10.1\n",
            "pydata-google-auth                    1.9.1\n",
            "pydot                                 3.0.4\n",
            "pydotplus                             2.0.2\n",
            "PyDrive2                              1.21.3\n",
            "pydub                                 0.25.1\n",
            "pyerfa                                2.0.1.5\n",
            "pygame                                2.6.1\n",
            "pygit2                                1.18.2\n",
            "Pygments                              2.19.2\n",
            "PyGObject                             3.42.0\n",
            "PyJWT                                 2.10.1\n",
            "pylibcudf-cu12                        25.6.0\n",
            "pylibcugraph-cu12                     25.6.0\n",
            "pylibraft-cu12                        25.6.0\n",
            "pyloudnorm                            0.1.1\n",
            "pymc                                  5.25.1\n",
            "pynndescent                           0.5.13\n",
            "pynvjitlink-cu12                      0.7.0\n",
            "pynvml                                12.0.0\n",
            "pyogrio                               0.11.1\n",
            "pyomo                                 6.9.4\n",
            "PyOpenGL                              3.1.10\n",
            "pyOpenSSL                             24.2.1\n",
            "pyparsing                             3.2.3\n",
            "pyperclip                             1.9.0\n",
            "pyproj                                3.7.2\n",
            "pyproject_hooks                       1.2.0\n",
            "pyshp                                 2.3.1\n",
            "PySocks                               1.7.1\n",
            "pyspark                               3.5.1\n",
            "pytensor                              2.31.7\n",
            "pytest                                8.4.1\n",
            "python-apt                            0.0.0\n",
            "python-box                            7.3.2\n",
            "python-dateutil                       2.9.0.post0\n",
            "python-dotenv                         1.1.1\n",
            "python-json-logger                    3.3.0\n",
            "python-louvain                        0.16\n",
            "python-multipart                      0.0.20\n",
            "python-slugify                        8.0.4\n",
            "python-snappy                         0.7.3\n",
            "python-utils                          3.9.1\n",
            "pytorch-lightning                     2.5.5\n",
            "pytz                                  2025.2\n",
            "pyviz_comms                           3.0.6\n",
            "PyWavelets                            1.9.0\n",
            "PyYAML                                6.0.2\n",
            "pyzmq                                 26.2.1\n",
            "raft-dask-cu12                        25.6.0\n",
            "RapidFuzz                             3.14.0\n",
            "rapids-dask-dependency                25.6.0\n",
            "rapids-logger                         0.1.1\n",
            "ratelim                               0.1.6\n",
            "referencing                           0.36.2\n",
            "regex                                 2024.11.6\n",
            "requests                              2.32.4\n",
            "requests-oauthlib                     2.0.0\n",
            "requests-toolbelt                     1.0.0\n",
            "requirements-parser                   0.9.0\n",
            "resampy                               0.4.3\n",
            "rfc3339-validator                     0.1.4\n",
            "rfc3986-validator                     0.1.1\n",
            "rfc3987-syntax                        1.1.0\n",
            "rich                                  13.9.4\n",
            "rmm-cu12                              25.6.0\n",
            "roman-numerals-py                     3.1.0\n",
            "rpds-py                               0.27.1\n",
            "rpy2                                  3.5.17\n",
            "rsa                                   4.9.1\n",
            "ruamel.yaml                           0.18.15\n",
            "ruamel.yaml.clib                      0.2.12\n",
            "ruff                                  0.12.11\n",
            "sacremoses                            0.1.1\n",
            "safehttpx                             0.1.6\n",
            "safetensors                           0.6.2\n",
            "scikit-image                          0.25.2\n",
            "scikit-learn                          1.6.1\n",
            "scipy                                 1.16.1\n",
            "scooby                                0.10.1\n",
            "scs                                   3.2.8\n",
            "seaborn                               0.13.2\n",
            "SecretStorage                         3.3.3\n",
            "semantic-version                      2.10.0\n",
            "Send2Trash                            1.8.3\n",
            "sentence-transformers                 5.1.0\n",
            "sentencepiece                         0.2.1\n",
            "sentry-sdk                            2.35.2\n",
            "setuptools                            75.2.0\n",
            "shap                                  0.48.0\n",
            "shapely                               2.1.1\n",
            "shellingham                           1.5.4\n",
            "simple-parsing                        0.1.7\n",
            "simplejson                            3.20.1\n",
            "simsimd                               6.5.1\n",
            "six                                   1.17.0\n",
            "sklearn-pandas                        2.2.0\n",
            "slicer                                0.0.8\n",
            "smart_open                            7.3.0.post1\n",
            "smmap                                 5.0.2\n",
            "sniffio                               1.3.1\n",
            "snowballstemmer                       3.0.1\n",
            "sortedcontainers                      2.4.0\n",
            "soundfile                             0.13.1\n",
            "soupsieve                             2.8\n",
            "sox                                   1.5.0\n",
            "soxr                                  0.5.0.post1\n",
            "spacy                                 3.8.7\n",
            "spacy-legacy                          3.0.12\n",
            "spacy-loggers                         1.0.5\n",
            "spanner-graph-notebook                1.1.8\n",
            "Sphinx                                8.2.3\n",
            "sphinxcontrib-applehelp               2.0.0\n",
            "sphinxcontrib-devhelp                 2.0.0\n",
            "sphinxcontrib-htmlhelp                2.1.0\n",
            "sphinxcontrib-jsmath                  1.0.1\n",
            "sphinxcontrib-qthelp                  2.0.0\n",
            "sphinxcontrib-serializinghtml         2.0.0\n",
            "SQLAlchemy                            2.0.43\n",
            "sqlalchemy-spanner                    1.16.0\n",
            "sqlglot                               25.20.2\n",
            "sqlparse                              0.5.3\n",
            "srsly                                 2.5.1\n",
            "sse-starlette                         3.0.2\n",
            "stanio                                0.5.1\n",
            "starlette                             0.47.3\n",
            "statsmodels                           0.14.5\n",
            "stringzilla                           3.12.6\n",
            "stumpy                                1.13.0\n",
            "sympy                                 1.13.3\n",
            "tables                                3.10.2\n",
            "tabulate                              0.9.0\n",
            "tbb                                   2022.2.0\n",
            "tblib                                 3.1.0\n",
            "tcmlib                                1.4.0\n",
            "tenacity                              8.5.0\n",
            "tensorboard                           2.19.0\n",
            "tensorboard-data-server               0.7.2\n",
            "tensorflow                            2.19.0\n",
            "tensorflow-datasets                   4.9.9\n",
            "tensorflow_decision_forests           1.12.0\n",
            "tensorflow-hub                        0.16.1\n",
            "tensorflow-metadata                   1.17.2\n",
            "tensorflow-probability                0.25.0\n",
            "tensorflow-text                       2.19.0\n",
            "tensorstore                           0.1.76\n",
            "termcolor                             3.1.0\n",
            "terminado                             0.18.1\n",
            "text-unidecode                        1.3\n",
            "textblob                              0.19.0\n",
            "texterrors                            0.5.1\n",
            "tf_keras                              2.19.0\n",
            "tf-slim                               1.1.0\n",
            "thinc                                 8.3.6\n",
            "threadpoolctl                         3.6.0\n",
            "tifffile                              2025.8.28\n",
            "tiktoken                              0.11.0\n",
            "timm                                  1.0.19\n",
            "tinycss2                              1.4.0\n",
            "tokenizers                            0.21.4\n",
            "toml                                  0.10.2\n",
            "tomlkit                               0.13.3\n",
            "toolz                                 0.12.1\n",
            "torch                                 2.8.0+cu126\n",
            "torchao                               0.10.0\n",
            "torchaudio                            2.8.0+cu126\n",
            "torchdata                             0.11.0\n",
            "torchmetrics                          1.8.2\n",
            "torchsummary                          1.5.1\n",
            "torchtune                             0.6.1\n",
            "torchvision                           0.23.0+cu126\n",
            "tornado                               6.4.2\n",
            "tqdm                                  4.67.1\n",
            "traitlets                             5.7.1\n",
            "traittypes                            0.2.1\n",
            "transformers                          4.53.3\n",
            "treelite                              4.4.1\n",
            "treescope                             0.1.10\n",
            "triton                                3.4.0\n",
            "tsfresh                               0.21.1\n",
            "tweepy                                4.16.0\n",
            "typeguard                             4.4.4\n",
            "typer                                 0.17.3\n",
            "types-python-dateutil                 2.9.0.20250822\n",
            "types-pytz                            2025.2.0.20250809\n",
            "types-setuptools                      80.9.0.20250822\n",
            "typing_extensions                     4.15.0\n",
            "typing-inspection                     0.4.1\n",
            "tzdata                                2025.2\n",
            "tzlocal                               5.3.1\n",
            "uc-micro-py                           1.0.3\n",
            "ucx-py-cu12                           0.44.0\n",
            "ucxx-cu12                             0.44.0\n",
            "umap-learn                            0.5.9.post2\n",
            "umf                                   0.11.0\n",
            "uri-template                          1.3.0\n",
            "uritemplate                           4.2.0\n",
            "urllib3                               2.5.0\n",
            "uvicorn                               0.35.0\n",
            "vega-datasets                         0.9.0\n",
            "wadllib                               1.3.6\n",
            "wandb                                 0.21.3\n",
            "wasabi                                1.1.3\n",
            "watchdog                              6.0.0\n",
            "wcwidth                               0.2.13\n",
            "weasel                                0.4.1\n",
            "webcolors                             24.11.1\n",
            "webdataset                            1.0.2\n",
            "webencodings                          0.5.1\n",
            "websocket-client                      1.8.0\n",
            "websockets                            15.0.1\n",
            "Werkzeug                              3.1.3\n",
            "wget                                  3.2\n",
            "wheel                                 0.45.1\n",
            "whisper_normalizer                    0.1.12\n",
            "widgetsnbextension                    3.6.10\n",
            "wordcloud                             1.9.4\n",
            "wrapt                                 1.17.3\n",
            "wurlitzer                             3.1.1\n",
            "xarray                                2025.8.0\n",
            "xarray-einstats                       0.9.1\n",
            "xgboost                               3.0.4\n",
            "xlrd                                  2.0.2\n",
            "xxhash                                3.5.0\n",
            "xyzservices                           2025.4.0\n",
            "yarl                                  1.20.1\n",
            "ydf                                   0.13.0\n",
            "yellowbrick                           1.5\n",
            "yfinance                              0.2.65\n",
            "zict                                  3.0.0\n",
            "zipp                                  3.23.0\n",
            "zstandard                             0.24.0\n"
          ]
        }
      ]
    },
    {
      "cell_type": "markdown",
      "metadata": {
        "id": "mOoaw3kDTqY7"
      },
      "source": [
        "# Introduction to Speaker Diarization\n",
        "Speaker diarization is the task of segmenting audio recordings by speaker labels and answers the question \"Who Speaks When?\". A speaker diarization system consists of Voice Activity Detection (VAD) model to get the timestamps of audio where speech is being spoken ignoring the background and speaker embeddings model to get speaker embeddings on segments that were previously time stamped. These speaker embedding vectors are then grouped into clusters and the number of speakers is estimated by clustering algorithm. Finally, based on the speaker profiles created from clustering results, neural diarizer generates speaker labels including overlap speech. The below figure shows the data-flow of NeMo speaker diarization."
      ]
    },
    {
      "cell_type": "markdown",
      "metadata": {
        "id": "jfZ31ZwDTqY8"
      },
      "source": [
        "<img src=\"https://github.com/NVIDIA-NeMo/NeMo/blob/main/tutorials/speaker_tasks/images/diar_pipeline.png?raw=1\" alt=\"diar_pipeline\" style=\"width: 800px;\"/>"
      ]
    },
    {
      "cell_type": "markdown",
      "metadata": {
        "id": "-vTajwu9TqY8"
      },
      "source": [
        "This tutorial covers speaker diarization inference. We will cover how to setup configurations and launch NeMo speaker diarization system with a few different settings. NeMo speaker diarization pipeline includes the following steps as described in the above figure: VAD, Segmentation, Speaker Embedding Extraction, Clustering and Neural Diarizer. We will explain what each module does and we will run NeMo speaker diarization system on a small toy example."
      ]
    },
    {
      "cell_type": "markdown",
      "metadata": {
        "id": "uPoxwakjTqY8"
      },
      "source": [
        "### VAD for Speaker Diarization Tasks\n",
        "\n",
        "In NeMo toolkit we support two types of speaker diarization inference regarding VAD:   \n",
        "* **with oracle VAD**: use ground-truth speech/non-speech labels.   \n",
        "* **with system VAD**: use speech/non-speech labels generated by an actual VAD model.   \n",
        "\n",
        "We will first demonstrate how to perform diarization with a oracle VAD timestamps (we assume we already have speech timestamps) and pretrained speaker embedding extractor model which can be found in tutorial for [Speaker Identification and Verification in NeMo](https://github.com/NVIDIA/NeMo/blob/main/tutorials/speaker_tasks/Speaker_Identification_Verification.ipynb).\n",
        "\n",
        "In the following section, we will also show how to perform VAD and then diarization if ground truth timestamp speech were not available (non-oracle VAD). We also have tutorials for [VAD training in NeMo](https://github.com/NVIDIA/NeMo/blob/main/tutorials/asr/Voice_Activity_Detection.ipynb) and [online offline microphone inference](https://github.com/NVIDIA/NeMo/blob/main/tutorials/asr/Online_Offline_Microphone_VAD_Demo.ipynb), where you can custom your model and training/finetuning on your own data.\n",
        "\n",
        "For demonstration purposes we would be using simulated audio from [an4 dataset](http://www.speech.cs.cmu.edu/databases/an4/)."
      ]
    },
    {
      "cell_type": "markdown",
      "metadata": {
        "id": "l1XeIFQhTqY9"
      },
      "source": [
        "### Multi-scale Approach for Segmentation, Speaker Embedding Extraction and Clustering\n",
        "\n",
        "#### Uniform Segmentation\n",
        "After the input signal goes through VAD module, we extract speaker embeddings from segmented audio then we extract speaker embedding vector from each and every segment. When we segment audio signal into short (0.5~3.0 sec) segments, we get speaker profile (speaker representation) for the specific segment. When it comes to segment length, there is trade-off between the quality of speaker representation and granularity (temporal resolution).\n",
        "\n",
        "#### Trade-off: Long VS Short Segment Length\n",
        "If we use long segments (e.g. longer than 2-3 seconds), we get fairly consistent and high-quality speaker representations but at the same time, we lose temporal resolution since we need to make a decision on the 2~3 second long segment which can lead to significant errors. On the other hand, if we use very short segments (0.2-0.5 sec), temporal resolution is superior but it is very challenging to extract reliable speaker characteristics from such short speech segments.\n",
        "\n",
        "#### Multiscale Segmentation\n",
        "In NeMo speaker diarization pipeline, we employ multi-scale approach to deal with such a trade-off between long and short segment lengths. We use multiple scales (segment lengths) and fuse the affinity values from each scale's result. An example of multi-scale segmentation looks like the following figure:"
      ]
    },
    {
      "cell_type": "markdown",
      "metadata": {
        "id": "fZylnf6_TqY9"
      },
      "source": [
        "<img src=\"https://github.com/NVIDIA-NeMo/NeMo/blob/main/tutorials/speaker_tasks/images/multiscale_example.png?raw=1\" alt=\"diar_pipeline\" style=\"width: 600px;\"/>"
      ]
    },
    {
      "cell_type": "markdown",
      "metadata": {
        "id": "_QKrHOlpTqY9"
      },
      "source": [
        "The finest scale, which has the shortest segment length, is called __base scale__ and base scale is assigned to the highest scale index. Note that we integrate the information from all scales but only make decisions based on base scale's segment range.\n",
        "\n",
        "During multi-scale segmentation process, the mapping among scales should be calculated. The middle point of each segment is considered as an anchor point and matched with other scales to have the shortest distance between two middle points from the two segments. In the above figure, the blue outline shows an example of how multi-scale segmentation and mapping is determined."
      ]
    },
    {
      "cell_type": "markdown",
      "metadata": {
        "id": "rOu-OUwvTqY9"
      },
      "source": [
        "#### Weighted Sum of Scale-specific Affinity Matrices"
      ]
    },
    {
      "cell_type": "markdown",
      "metadata": {
        "id": "y8F4Ww0sTqY9"
      },
      "source": [
        "The information from each scale is combined by calculating the weighted sum of affininty matrix. An affinity matrix is calculated by cosine similarity value between all the segments (and corresponding embedding vectors) in that scale. Once affinity matrix for each scale is calculated, we calculate a weighted sum on all the affinity matrices calculated as in the below figure."
      ]
    },
    {
      "cell_type": "markdown",
      "metadata": {
        "id": "6lpHLbLZTqY9"
      },
      "source": [
        "<img src=\"https://github.com/NVIDIA-NeMo/NeMo/blob/main/tutorials/speaker_tasks/images/affinity_matrix_fusion.png?raw=1\" alt=\"diar_pipeline\" style=\"width: 800px;\"/>"
      ]
    },
    {
      "cell_type": "markdown",
      "metadata": {
        "id": "eWIFg3ziTqY-"
      },
      "source": [
        "The weighted sum is calculated by using `multiscale_weights` parameter. We feed the fused affinity matrix (weighted sum of affinity matrix) to clustering algorithm to group the speakers and count the number of speakers. Multi-scale approach not only reduces DER but also makes speaker counting more accurate during clustering process.  "
      ]
    },
    {
      "cell_type": "markdown",
      "metadata": {
        "id": "-Qp6qg4XTqY-"
      },
      "source": [
        "#### Configurations for Multiscale Diarization"
      ]
    },
    {
      "cell_type": "markdown",
      "metadata": {
        "id": "QeOM-WvfTqY-"
      },
      "source": [
        " We use a default multi-scale setting in [diar_infer_telephonic.yaml](https://github.com/NVIDIA/NeMo/blob/main/examples/speaker_tasks/diarization/conf/inference/diar_infer_telephonic.yaml) which has 5 scales from 1.5 s to 0.5 s, 50% overlap and equal weights. Note that only the ratio between numbers in `multiscale_weights` since the fused affinity matrix is normalized. For example, \\[1,1,1,1,1\\] and \\[0.5,0.5,0.5,0.5,0.5\\] will lead to the exactly same result."
      ]
    },
    {
      "cell_type": "markdown",
      "metadata": {
        "id": "zybxloCpTqY-"
      },
      "source": [
        "* `config.diarizer.speaker_embeddings.parameters.window_length_in_sec = [1.5,1.25,1.0,0.75,0.5]`\n",
        "* `config.diarizer.speaker_embeddings.parameters.shift_length_in_sec = [0.75,0.625,0.5,0.375,0.1]`\n",
        "* `diarizer.speaker_embeddings.parameters.multiscale_weights=[1,1,1,1,1]`"
      ]
    },
    {
      "cell_type": "markdown",
      "metadata": {
        "id": "_peY8CZgTqY-"
      },
      "source": [
        "Note that an MSDD model has a pre-defined set of multi-scale configurations and clustering should be done with the same multi-scale configuration."
      ]
    },
    {
      "cell_type": "markdown",
      "metadata": {
        "id": "j34-UrLoTqY-"
      },
      "source": [
        "### Neural Diarizer: Multiscale Diarization Decoder"
      ]
    },
    {
      "cell_type": "markdown",
      "metadata": {
        "id": "GYcm4Xz6TqY-"
      },
      "source": [
        "#### Neural Diarizer\n",
        "In NeMo speaker diarization pipeline, the term **neural diarizer**  refers to trainable neural modules that estimate speaker labels from the given feature or audio input. Neural diarizer contrasts with **clustering diarizer** in a way that clustering diarizer is not a trainable module. Neural diarizer is needed to enable overlap-aware diarization, more improved accucy and joint training with speaker embedding models using multispeaker datasets (diarization training datasets).\n",
        "\n",
        "#### Multi-scale Diarization Decoder (MSDD)\n",
        "Currently, you can use Multi-scale Diarization Decoder (MSDD) model as a neural diarizer. MSDD models use clustering diarizer for obtaining the estimated speaker profile of each speaker and the estimated number of speakers. The below figure shows training and inference of MSDD model."
      ]
    },
    {
      "cell_type": "markdown",
      "metadata": {
        "id": "_gsSQQIjTqY-"
      },
      "source": [
        "<img src=\"https://github.com/NVIDIA-NeMo/NeMo/blob/main/tutorials/speaker_tasks/images/msdd_train_and_infer.png?raw=1\" alt=\"MSDD_train_infer\" style=\"width: 800px;\"/>"
      ]
    },
    {
      "cell_type": "markdown",
      "metadata": {
        "id": "6YvW525PTqY-"
      },
      "source": [
        "MSDD models employ pairwise (two-speaker) unit-model for both training and inference. While training, pairwise model is trained on data samples with two speakers or two-speaker subset from data samples with more than two speakers.\n",
        "In inference mode, we retrieve all possible pairs from the estimated number of speakers and average the results. For example, if there are four speakers `(A, B, C, D)`, we extract 6 pairs: `(A,B)`, `(A,C)`, `(A,D)`, `(B,C)`, `(B,D)`, `(C,D)`. Finally, the sigmoid outputs are averaged. In this way, MSDD can deal with flexible number of speakers using a pairwise model.\n",
        "\n",
        "The detailed information on MSDD model and model training can be found in tutorial on [Speaker Diarization Training](https://github.com/NVIDIA/NeMo/blob/main/tutorials/speaker_tasks/Speaker_Diarization_Training.ipynb)."
      ]
    },
    {
      "cell_type": "markdown",
      "metadata": {
        "id": "LJJQYH1kTqY-"
      },
      "source": [
        "### A toy example for speaker diarization"
      ]
    },
    {
      "cell_type": "markdown",
      "metadata": {
        "id": "8X5Vo0FwTqY_"
      },
      "source": [
        "Download a toy example audio file (`an4_diarize_test.wav`) and its ground-truth label file (`an4_diarize_test.rttm`)."
      ]
    },
    {
      "cell_type": "code",
      "execution_count": 7,
      "metadata": {
        "id": "BISdEkPWTqY_"
      },
      "outputs": [],
      "source": [
        "import os\n",
        "import wget\n",
        "ROOT = os.getcwd()\n",
        "data_dir = os.path.join(ROOT,'data')\n",
        "os.makedirs(data_dir, exist_ok=True)\n",
        "an4_audio = os.path.join(data_dir,'an4_diarize_test.wav')\n",
        "an4_rttm = os.path.join(data_dir,'an4_diarize_test.rttm')\n",
        "if not os.path.exists(an4_audio):\n",
        "    an4_audio_url = \"https://nemo-public.s3.us-east-2.amazonaws.com/an4_diarize_test.wav\"\n",
        "    an4_audio = wget.download(an4_audio_url, data_dir)\n",
        "if not os.path.exists(an4_rttm):\n",
        "    an4_rttm_url = \"https://nemo-public.s3.us-east-2.amazonaws.com/an4_diarize_test.rttm\"\n",
        "    an4_rttm = wget.download(an4_rttm_url, data_dir)"
      ]
    },
    {
      "cell_type": "markdown",
      "metadata": {
        "id": "IIIydhMPTqY_"
      },
      "source": [
        "Let's plot and listen to the audio and visualize the RTTM speaker labels."
      ]
    },
    {
      "cell_type": "code",
      "execution_count": 9,
      "metadata": {
        "colab": {
          "base_uri": "https://localhost:8080/",
          "height": 1000
        },
        "id": "300M6P8eTqY_",
        "outputId": "3124fce7-2efa-44de-fd3a-2ef185a13c54"
      },
      "outputs": [
        {
          "output_type": "error",
          "ename": "ModuleNotFoundError",
          "evalue": "No module named 'numpy.char'",
          "traceback": [
            "\u001b[0;31m---------------------------------------------------------------------------\u001b[0m",
            "\u001b[0;31mModuleNotFoundError\u001b[0m                       Traceback (most recent call last)",
            "\u001b[0;32m/tmp/ipython-input-3142071201.py\u001b[0m in \u001b[0;36m<cell line: 0>\u001b[0;34m()\u001b[0m\n\u001b[1;32m      5\u001b[0m \u001b[0;34m\u001b[0m\u001b[0m\n\u001b[1;32m      6\u001b[0m \u001b[0msr\u001b[0m \u001b[0;34m=\u001b[0m \u001b[0;36m16000\u001b[0m\u001b[0;34m\u001b[0m\u001b[0;34m\u001b[0m\u001b[0m\n\u001b[0;32m----> 7\u001b[0;31m \u001b[0msignal\u001b[0m\u001b[0;34m,\u001b[0m \u001b[0msr\u001b[0m \u001b[0;34m=\u001b[0m \u001b[0mlibrosa\u001b[0m\u001b[0;34m.\u001b[0m\u001b[0mload\u001b[0m\u001b[0;34m(\u001b[0m\u001b[0man4_audio\u001b[0m\u001b[0;34m,\u001b[0m\u001b[0msr\u001b[0m\u001b[0;34m=\u001b[0m\u001b[0msr\u001b[0m\u001b[0;34m)\u001b[0m\u001b[0;34m\u001b[0m\u001b[0;34m\u001b[0m\u001b[0m\n\u001b[0m\u001b[1;32m      8\u001b[0m \u001b[0;34m\u001b[0m\u001b[0m\n\u001b[1;32m      9\u001b[0m \u001b[0mfig\u001b[0m\u001b[0;34m,\u001b[0m\u001b[0max\u001b[0m \u001b[0;34m=\u001b[0m \u001b[0mplt\u001b[0m\u001b[0;34m.\u001b[0m\u001b[0msubplots\u001b[0m\u001b[0;34m(\u001b[0m\u001b[0;36m1\u001b[0m\u001b[0;34m,\u001b[0m\u001b[0;36m1\u001b[0m\u001b[0;34m)\u001b[0m\u001b[0;34m\u001b[0m\u001b[0;34m\u001b[0m\u001b[0m\n",
            "\u001b[0;32m/usr/local/lib/python3.12/dist-packages/lazy_loader/__init__.py\u001b[0m in \u001b[0;36m__getattr__\u001b[0;34m(name)\u001b[0m\n\u001b[1;32m     81\u001b[0m             \u001b[0msubmod_path\u001b[0m \u001b[0;34m=\u001b[0m \u001b[0;34mf\"{package_name}.{attr_to_modules[name]}\"\u001b[0m\u001b[0;34m\u001b[0m\u001b[0;34m\u001b[0m\u001b[0m\n\u001b[1;32m     82\u001b[0m             \u001b[0msubmod\u001b[0m \u001b[0;34m=\u001b[0m \u001b[0mimportlib\u001b[0m\u001b[0;34m.\u001b[0m\u001b[0mimport_module\u001b[0m\u001b[0;34m(\u001b[0m\u001b[0msubmod_path\u001b[0m\u001b[0;34m)\u001b[0m\u001b[0;34m\u001b[0m\u001b[0;34m\u001b[0m\u001b[0m\n\u001b[0;32m---> 83\u001b[0;31m             \u001b[0mattr\u001b[0m \u001b[0;34m=\u001b[0m \u001b[0mgetattr\u001b[0m\u001b[0;34m(\u001b[0m\u001b[0msubmod\u001b[0m\u001b[0;34m,\u001b[0m \u001b[0mname\u001b[0m\u001b[0;34m)\u001b[0m\u001b[0;34m\u001b[0m\u001b[0;34m\u001b[0m\u001b[0m\n\u001b[0m\u001b[1;32m     84\u001b[0m \u001b[0;34m\u001b[0m\u001b[0m\n\u001b[1;32m     85\u001b[0m             \u001b[0;31m# If the attribute lives in a file (module) with the same\u001b[0m\u001b[0;34m\u001b[0m\u001b[0;34m\u001b[0m\u001b[0m\n",
            "\u001b[0;32m/usr/local/lib/python3.12/dist-packages/lazy_loader/__init__.py\u001b[0m in \u001b[0;36m__getattr__\u001b[0;34m(name)\u001b[0m\n\u001b[1;32m     80\u001b[0m         \u001b[0;32melif\u001b[0m \u001b[0mname\u001b[0m \u001b[0;32min\u001b[0m \u001b[0mattr_to_modules\u001b[0m\u001b[0;34m:\u001b[0m\u001b[0;34m\u001b[0m\u001b[0;34m\u001b[0m\u001b[0m\n\u001b[1;32m     81\u001b[0m             \u001b[0msubmod_path\u001b[0m \u001b[0;34m=\u001b[0m \u001b[0;34mf\"{package_name}.{attr_to_modules[name]}\"\u001b[0m\u001b[0;34m\u001b[0m\u001b[0;34m\u001b[0m\u001b[0m\n\u001b[0;32m---> 82\u001b[0;31m             \u001b[0msubmod\u001b[0m \u001b[0;34m=\u001b[0m \u001b[0mimportlib\u001b[0m\u001b[0;34m.\u001b[0m\u001b[0mimport_module\u001b[0m\u001b[0;34m(\u001b[0m\u001b[0msubmod_path\u001b[0m\u001b[0;34m)\u001b[0m\u001b[0;34m\u001b[0m\u001b[0;34m\u001b[0m\u001b[0m\n\u001b[0m\u001b[1;32m     83\u001b[0m             \u001b[0mattr\u001b[0m \u001b[0;34m=\u001b[0m \u001b[0mgetattr\u001b[0m\u001b[0;34m(\u001b[0m\u001b[0msubmod\u001b[0m\u001b[0;34m,\u001b[0m \u001b[0mname\u001b[0m\u001b[0;34m)\u001b[0m\u001b[0;34m\u001b[0m\u001b[0;34m\u001b[0m\u001b[0m\n\u001b[1;32m     84\u001b[0m \u001b[0;34m\u001b[0m\u001b[0m\n",
            "\u001b[0;32m/usr/lib/python3.12/importlib/__init__.py\u001b[0m in \u001b[0;36mimport_module\u001b[0;34m(name, package)\u001b[0m\n\u001b[1;32m     88\u001b[0m                 \u001b[0;32mbreak\u001b[0m\u001b[0;34m\u001b[0m\u001b[0;34m\u001b[0m\u001b[0m\n\u001b[1;32m     89\u001b[0m             \u001b[0mlevel\u001b[0m \u001b[0;34m+=\u001b[0m \u001b[0;36m1\u001b[0m\u001b[0;34m\u001b[0m\u001b[0;34m\u001b[0m\u001b[0m\n\u001b[0;32m---> 90\u001b[0;31m     \u001b[0;32mreturn\u001b[0m \u001b[0m_bootstrap\u001b[0m\u001b[0;34m.\u001b[0m\u001b[0m_gcd_import\u001b[0m\u001b[0;34m(\u001b[0m\u001b[0mname\u001b[0m\u001b[0;34m[\u001b[0m\u001b[0mlevel\u001b[0m\u001b[0;34m:\u001b[0m\u001b[0;34m]\u001b[0m\u001b[0;34m,\u001b[0m \u001b[0mpackage\u001b[0m\u001b[0;34m,\u001b[0m \u001b[0mlevel\u001b[0m\u001b[0;34m)\u001b[0m\u001b[0;34m\u001b[0m\u001b[0;34m\u001b[0m\u001b[0m\n\u001b[0m\u001b[1;32m     91\u001b[0m \u001b[0;34m\u001b[0m\u001b[0m\n\u001b[1;32m     92\u001b[0m \u001b[0;34m\u001b[0m\u001b[0m\n",
            "\u001b[0;32m/usr/lib/python3.12/importlib/_bootstrap.py\u001b[0m in \u001b[0;36m_gcd_import\u001b[0;34m(name, package, level)\u001b[0m\n",
            "\u001b[0;32m/usr/lib/python3.12/importlib/_bootstrap.py\u001b[0m in \u001b[0;36m_find_and_load\u001b[0;34m(name, import_)\u001b[0m\n",
            "\u001b[0;32m/usr/lib/python3.12/importlib/_bootstrap.py\u001b[0m in \u001b[0;36m_find_and_load_unlocked\u001b[0;34m(name, import_)\u001b[0m\n",
            "\u001b[0;32m/usr/lib/python3.12/importlib/_bootstrap.py\u001b[0m in \u001b[0;36m_load_unlocked\u001b[0;34m(spec)\u001b[0m\n",
            "\u001b[0;32m/usr/lib/python3.12/importlib/_bootstrap_external.py\u001b[0m in \u001b[0;36mexec_module\u001b[0;34m(self, module)\u001b[0m\n",
            "\u001b[0;32m/usr/lib/python3.12/importlib/_bootstrap.py\u001b[0m in \u001b[0;36m_call_with_frames_removed\u001b[0;34m(f, *args, **kwds)\u001b[0m\n",
            "\u001b[0;32m/usr/local/lib/python3.12/dist-packages/librosa/core/audio.py\u001b[0m in \u001b[0;36m<module>\u001b[0;34m\u001b[0m\n\u001b[1;32m     12\u001b[0m \u001b[0;32mimport\u001b[0m \u001b[0mnumpy\u001b[0m \u001b[0;32mas\u001b[0m \u001b[0mnp\u001b[0m\u001b[0;34m\u001b[0m\u001b[0;34m\u001b[0m\u001b[0m\n\u001b[1;32m     13\u001b[0m \u001b[0;32mimport\u001b[0m \u001b[0mscipy\u001b[0m\u001b[0;34m\u001b[0m\u001b[0;34m\u001b[0m\u001b[0m\n\u001b[0;32m---> 14\u001b[0;31m \u001b[0;32mimport\u001b[0m \u001b[0mscipy\u001b[0m\u001b[0;34m.\u001b[0m\u001b[0msignal\u001b[0m\u001b[0;34m\u001b[0m\u001b[0;34m\u001b[0m\u001b[0m\n\u001b[0m\u001b[1;32m     15\u001b[0m \u001b[0;32mimport\u001b[0m \u001b[0msoxr\u001b[0m\u001b[0;34m\u001b[0m\u001b[0;34m\u001b[0m\u001b[0m\n\u001b[1;32m     16\u001b[0m \u001b[0;32mimport\u001b[0m \u001b[0mlazy_loader\u001b[0m \u001b[0;32mas\u001b[0m \u001b[0mlazy\u001b[0m\u001b[0;34m\u001b[0m\u001b[0;34m\u001b[0m\u001b[0m\n",
            "\u001b[0;32m/usr/local/lib/python3.12/dist-packages/scipy/signal/__init__.py\u001b[0m in \u001b[0;36m<module>\u001b[0;34m\u001b[0m\n\u001b[1;32m    299\u001b[0m \u001b[0;31m# mypy: ignore-errors\u001b[0m\u001b[0;34m\u001b[0m\u001b[0;34m\u001b[0m\u001b[0m\n\u001b[1;32m    300\u001b[0m \u001b[0;34m\u001b[0m\u001b[0m\n\u001b[0;32m--> 301\u001b[0;31m \u001b[0;32mfrom\u001b[0m \u001b[0;34m.\u001b[0m\u001b[0m_support_alternative_backends\u001b[0m \u001b[0;32mimport\u001b[0m \u001b[0;34m*\u001b[0m\u001b[0;34m\u001b[0m\u001b[0;34m\u001b[0m\u001b[0m\n\u001b[0m\u001b[1;32m    302\u001b[0m \u001b[0;32mfrom\u001b[0m \u001b[0;34m.\u001b[0m \u001b[0;32mimport\u001b[0m \u001b[0m_support_alternative_backends\u001b[0m\u001b[0;34m\u001b[0m\u001b[0;34m\u001b[0m\u001b[0m\n\u001b[1;32m    303\u001b[0m \u001b[0m__all__\u001b[0m \u001b[0;34m=\u001b[0m \u001b[0m_support_alternative_backends\u001b[0m\u001b[0;34m.\u001b[0m\u001b[0m__all__\u001b[0m\u001b[0;34m\u001b[0m\u001b[0;34m\u001b[0m\u001b[0m\n",
            "\u001b[0;32m/usr/local/lib/python3.12/dist-packages/scipy/signal/_support_alternative_backends.py\u001b[0m in \u001b[0;36m<module>\u001b[0;34m\u001b[0m\n\u001b[1;32m      1\u001b[0m \u001b[0;32mimport\u001b[0m \u001b[0mfunctools\u001b[0m\u001b[0;34m\u001b[0m\u001b[0;34m\u001b[0m\u001b[0m\n\u001b[0;32m----> 2\u001b[0;31m from scipy._lib._array_api import (\n\u001b[0m\u001b[1;32m      3\u001b[0m     \u001b[0mis_cupy\u001b[0m\u001b[0;34m,\u001b[0m \u001b[0mis_jax\u001b[0m\u001b[0;34m,\u001b[0m \u001b[0mscipy_namespace_for\u001b[0m\u001b[0;34m,\u001b[0m \u001b[0mSCIPY_ARRAY_API\u001b[0m\u001b[0;34m\u001b[0m\u001b[0;34m\u001b[0m\u001b[0m\n\u001b[1;32m      4\u001b[0m )\n\u001b[1;32m      5\u001b[0m \u001b[0;34m\u001b[0m\u001b[0m\n",
            "\u001b[0;32m/usr/local/lib/python3.12/dist-packages/scipy/_lib/_array_api.py\u001b[0m in \u001b[0;36m<module>\u001b[0;34m\u001b[0m\n\u001b[1;32m     23\u001b[0m \u001b[0;34m\u001b[0m\u001b[0m\n\u001b[1;32m     24\u001b[0m \u001b[0;32mfrom\u001b[0m \u001b[0mscipy\u001b[0m\u001b[0;34m.\u001b[0m\u001b[0m_lib\u001b[0m \u001b[0;32mimport\u001b[0m \u001b[0marray_api_compat\u001b[0m\u001b[0;34m\u001b[0m\u001b[0;34m\u001b[0m\u001b[0m\n\u001b[0;32m---> 25\u001b[0;31m from scipy._lib.array_api_compat import (\n\u001b[0m\u001b[1;32m     26\u001b[0m     \u001b[0mis_array_api_obj\u001b[0m\u001b[0;34m,\u001b[0m\u001b[0;34m\u001b[0m\u001b[0;34m\u001b[0m\u001b[0m\n\u001b[1;32m     27\u001b[0m     \u001b[0mis_lazy_array\u001b[0m\u001b[0;34m,\u001b[0m\u001b[0;34m\u001b[0m\u001b[0;34m\u001b[0m\u001b[0m\n",
            "\u001b[0;32m/usr/local/lib/python3.12/dist-packages/scipy/_lib/array_api_compat/numpy/__init__.py\u001b[0m in \u001b[0;36m<module>\u001b[0;34m\u001b[0m\n\u001b[1;32m      2\u001b[0m \u001b[0;32mfrom\u001b[0m \u001b[0mtyping\u001b[0m \u001b[0;32mimport\u001b[0m \u001b[0mFinal\u001b[0m\u001b[0;34m\u001b[0m\u001b[0;34m\u001b[0m\u001b[0m\n\u001b[1;32m      3\u001b[0m \u001b[0;34m\u001b[0m\u001b[0m\n\u001b[0;32m----> 4\u001b[0;31m \u001b[0;32mfrom\u001b[0m \u001b[0mnumpy\u001b[0m \u001b[0;32mimport\u001b[0m \u001b[0;34m*\u001b[0m  \u001b[0;31m# noqa: F403  # pyright: ignore[reportWildcardImportFromLibrary]\u001b[0m\u001b[0;34m\u001b[0m\u001b[0;34m\u001b[0m\u001b[0m\n\u001b[0m\u001b[1;32m      5\u001b[0m \u001b[0;34m\u001b[0m\u001b[0m\n\u001b[1;32m      6\u001b[0m \u001b[0;31m# from numpy import * doesn't overwrite these builtin names\u001b[0m\u001b[0;34m\u001b[0m\u001b[0;34m\u001b[0m\u001b[0m\n",
            "\u001b[0;32m/usr/local/lib/python3.12/dist-packages/numpy/__init__.py\u001b[0m in \u001b[0;36m__getattr__\u001b[0;34m(attr)\u001b[0m\n\u001b[1;32m    365\u001b[0m                 \u001b[0;32mraise\u001b[0m \u001b[0mAssertionError\u001b[0m\u001b[0;34m(\u001b[0m\u001b[0;34m)\u001b[0m\u001b[0;34m\u001b[0m\u001b[0;34m\u001b[0m\u001b[0m\n\u001b[1;32m    366\u001b[0m         \u001b[0;32mexcept\u001b[0m \u001b[0mAssertionError\u001b[0m\u001b[0;34m:\u001b[0m\u001b[0;34m\u001b[0m\u001b[0;34m\u001b[0m\u001b[0m\n\u001b[0;32m--> 367\u001b[0;31m             msg = (\"The current Numpy installation ({!r}) fails to \"\n\u001b[0m\u001b[1;32m    368\u001b[0m                    \u001b[0;34m\"pass simple sanity checks. This can be caused for example \"\u001b[0m\u001b[0;34m\u001b[0m\u001b[0;34m\u001b[0m\u001b[0m\n\u001b[1;32m    369\u001b[0m                    \u001b[0;34m\"by incorrect BLAS library being linked in, or by mixing \"\u001b[0m\u001b[0;34m\u001b[0m\u001b[0;34m\u001b[0m\u001b[0m\n",
            "\u001b[0;31mModuleNotFoundError\u001b[0m: No module named 'numpy.char'",
            "",
            "\u001b[0;31m---------------------------------------------------------------------------\u001b[0;32m\nNOTE: If your import is failing due to a missing package, you can\nmanually install dependencies using either !pip or !apt.\n\nTo view examples of installing some common dependencies, click the\n\"Open Examples\" button below.\n\u001b[0;31m---------------------------------------------------------------------------\u001b[0m\n"
          ],
          "errorDetails": {
            "actions": [
              {
                "action": "open_url",
                "actionText": "Open Examples",
                "url": "/notebooks/snippets/importing_libraries.ipynb"
              }
            ]
          }
        }
      ],
      "source": [
        "import IPython\n",
        "import matplotlib.pyplot as plt\n",
        "import numpy as np\n",
        "import librosa\n",
        "\n",
        "sr = 16000\n",
        "signal, sr = librosa.load(an4_audio,sr=sr)\n",
        "\n",
        "fig,ax = plt.subplots(1,1)\n",
        "fig.set_figwidth(20)\n",
        "fig.set_figheight(2)\n",
        "plt.plot(np.arange(len(signal)),signal,'gray')\n",
        "fig.suptitle('Reference merged an4 audio', fontsize=16)\n",
        "plt.xlabel('time (secs)', fontsize=18)\n",
        "ax.margins(x=0)\n",
        "plt.ylabel('signal strength', fontsize=16);\n",
        "a,_ = plt.xticks();plt.xticks(a,a/sr);\n",
        "\n",
        "IPython.display.Audio(an4_audio)"
      ]
    },
    {
      "cell_type": "markdown",
      "metadata": {
        "id": "JPmOBl3rTqY_"
      },
      "source": [
        "We would use [pyannote_metrics](https://pyannote.github.io/pyannote-metrics/) for visualization and score calculation purposes. Hence all the labels in rttm formats would eventually be converted to pyannote objects, we created two helper functions rttm_to_labels (for NeMo intermediate processing) and labels_to_pyannote_object for scoring and visualization format."
      ]
    },
    {
      "cell_type": "code",
      "execution_count": null,
      "metadata": {
        "id": "ITP5roylTqY_"
      },
      "outputs": [],
      "source": [
        "from nemo.collections.asr.parts.utils.speaker_utils import rttm_to_labels, labels_to_pyannote_object"
      ]
    },
    {
      "cell_type": "markdown",
      "metadata": {
        "id": "4bwDeh9XTqY_"
      },
      "source": [
        "Let's load ground truth RTTM labels and view the reference Annotation timestamps visually"
      ]
    },
    {
      "cell_type": "code",
      "execution_count": null,
      "metadata": {
        "id": "dvVx50XpTqY_"
      },
      "outputs": [],
      "source": [
        "# view the sample rttm file\n",
        "!cat {an4_rttm}"
      ]
    },
    {
      "cell_type": "code",
      "execution_count": null,
      "metadata": {
        "id": "KMJ6hGNJTqY_"
      },
      "outputs": [],
      "source": [
        "labels = rttm_to_labels(an4_rttm)\n",
        "reference = labels_to_pyannote_object(labels)\n",
        "print(labels)\n",
        "reference"
      ]
    },
    {
      "cell_type": "markdown",
      "metadata": {
        "id": "9LyshQjLTqZA"
      },
      "source": [
        "Speaker Diarization scripts commonly expects following arguments:\n",
        "1. manifest_filepath : Path to manifest file containing json lines of format:   \n",
        "`{'audio_filepath': /path/to/audio_file, 'offset': 0, 'duration':None, 'label': 'infer', 'text': '-', 'num_speakers': None, 'rttm_filepath': /path/to/rttm/file, 'uem_filepath'='/path/to/uem/filepath'}`\n",
        "2. out_dir : directory where outputs and intermediate files are stored.\n",
        "3. oracle_vad: If this is true then we extract speech activity labels from rttm files, if False then either\n",
        "4. vad.model_path or external_manifestpath containing speech activity labels has to be passed.\n",
        "\n",
        "Mandatory fields are audio_filepath, offset, duration, label and text. For the rest if you would like to evaluate with known number of speakers pass the value else None. If you would like to score the system with known rttms then that should be passed as well, else None. uem file is used to score only part of your audio for evaluation purposes, hence pass if you would like to evaluate on it else None.\n",
        "\n",
        "\n",
        "* **\\[Note\\]** we expect audio and corresponding RTTM have **same base name** and the name should be **unique**.\n",
        "\n",
        "For eg: if audio file name is **test_an4**.wav, if provided we expect corresponding rttm file name to be **test_an4**.rttm (note the matching **test_an4** base name)\n"
      ]
    },
    {
      "cell_type": "markdown",
      "metadata": {
        "id": "An5yekarTqZA"
      },
      "source": [
        "Lets create manifest with the an4 audio and rttm available. If you have more than one files you may also use the script `pathfiles_to_diarize_manifest.py` to generate manifest file from list of audio files and optionally rttm files"
      ]
    },
    {
      "cell_type": "code",
      "execution_count": null,
      "metadata": {
        "id": "cUPcq_3uTqZA"
      },
      "outputs": [],
      "source": [
        "# Create a manifest for input with below format.\n",
        "# {'audio_filepath': /path/to/audio_file, 'offset': 0, 'duration':None, 'label': 'infer', 'text': '-',\n",
        "# 'num_speakers': None, 'rttm_filepath': /path/to/rttm/file, 'uem_filepath'='/path/to/uem/filepath'}\n",
        "import json\n",
        "meta = {\n",
        "    'audio_filepath': an4_audio,\n",
        "    'offset': 0,\n",
        "    'duration':None,\n",
        "    'label': 'infer',\n",
        "    'text': '-',\n",
        "    'num_speakers': 2,\n",
        "    'rttm_filepath': an4_rttm,\n",
        "    'uem_filepath' : None\n",
        "}\n",
        "with open('data/input_manifest.json','w') as fp:\n",
        "    json.dump(meta,fp)\n",
        "    fp.write('\\n')\n",
        "\n",
        "!cat data/input_manifest.json\n",
        "\n",
        "output_dir = os.path.join(ROOT, 'oracle_vad')\n",
        "os.makedirs(output_dir,exist_ok=True)"
      ]
    },
    {
      "cell_type": "markdown",
      "metadata": {
        "id": "2Ev43YzrTqZA"
      },
      "source": [
        "# Speaker Diarization with Oracle-VAD"
      ]
    },
    {
      "cell_type": "markdown",
      "metadata": {
        "id": "rE_1sJIRTqZA"
      },
      "source": [
        "Using **oracle VAD** for speaker diarization can be regarded as performing a diarization inference based on ground-truth speech/non-speech labels. The motivation behind using oracle-VAD is to factor out the influence of VAD performance when we evaluate a speaker diarization system. Speaker diarization with oracle-VAD can also be used to run speaker diarization with rttms generated from any external VAD, not just VAD model from NeMo.\n",
        "\n",
        "The first step is to start converting reference audio RTTM file (containing VAD output) timestamps to oracle manifest file. This manifest file would be sent to our speaker diarizer to extract embeddings.\n",
        "\n",
        "If you have RTTM files for your input audio files, setting `oracle_vad=True` in diarization inference config, the diarization system automatically computes oracle manifest based on the rttms provided through input manifest file."
      ]
    },
    {
      "cell_type": "markdown",
      "metadata": {
        "id": "FuwTcmCKTqZA"
      },
      "source": [
        "Our config file is based on [hydra](https://hydra.cc/docs/intro/).\n",
        "With hydra config, we ask users to provide values to variables that were filled with **???**, these are mandatory fields and scripts expect them for successful runs. Note that the variables filled with **null** are optional variables. Such variables could be provided if needed but are not mandatory."
      ]
    },
    {
      "cell_type": "code",
      "execution_count": null,
      "metadata": {
        "id": "XVokQey9TqZA"
      },
      "outputs": [],
      "source": [
        "from omegaconf import OmegaConf\n",
        "MODEL_CONFIG = os.path.join(data_dir,'diar_infer_telephonic.yaml')\n",
        "if not os.path.exists(MODEL_CONFIG):\n",
        "    config_url = \"https://raw.githubusercontent.com/NVIDIA/NeMo/main/examples/speaker_tasks/diarization/conf/inference/diar_infer_telephonic.yaml\"\n",
        "    MODEL_CONFIG = wget.download(config_url,data_dir)\n",
        "\n",
        "config = OmegaConf.load(MODEL_CONFIG)\n",
        "print(OmegaConf.to_yaml(config))"
      ]
    },
    {
      "cell_type": "markdown",
      "metadata": {
        "id": "MA__8ELnTqZB"
      },
      "source": [
        "Now we can perform speaker diarization based on timestamps generated from ground truth rttms rather than generating through VAD.\n",
        "\n",
        "Let's set parameters for speaker diarization inference. We will use `titanet_large` speaker embedding model for running clustering diarizer."
      ]
    },
    {
      "cell_type": "code",
      "execution_count": null,
      "metadata": {
        "id": "Gu6M4HVXTqZB"
      },
      "outputs": [],
      "source": [
        "config.diarizer.manifest_filepath = 'data/input_manifest.json'\n",
        "config.diarizer.out_dir = output_dir # Directory to store intermediate files and prediction outputs\n",
        "pretrained_speaker_model = 'titanet_large'\n",
        "config.diarizer.speaker_embeddings.model_path = pretrained_speaker_model\n",
        "config.diarizer.speaker_embeddings.parameters.window_length_in_sec = [1.5,1.25,1.0,0.75,0.5]\n",
        "config.diarizer.speaker_embeddings.parameters.shift_length_in_sec = [0.75,0.625,0.5,0.375,0.1]\n",
        "config.diarizer.speaker_embeddings.parameters.multiscale_weights= [1,1,1,1,1]\n",
        "config.diarizer.oracle_vad = True # ----> ORACLE VAD\n",
        "config.diarizer.clustering.parameters.oracle_num_speakers = False"
      ]
    },
    {
      "cell_type": "markdown",
      "metadata": {
        "id": "u8FefdMDTqZB"
      },
      "source": [
        "### Clustering Diarizer: with Oracle VAD"
      ]
    },
    {
      "cell_type": "markdown",
      "metadata": {
        "id": "K5UizrrPTqZB"
      },
      "source": [
        "Now that we set configurations, import `ClusteringDiarizer` class and create a clustering diarizer instance."
      ]
    },
    {
      "cell_type": "code",
      "execution_count": null,
      "metadata": {
        "id": "3De7kROJTqZB"
      },
      "outputs": [],
      "source": [
        "from nemo.collections.asr.models import ClusteringDiarizer\n",
        "oracle_vad_clusdiar_model = ClusteringDiarizer(cfg=config)"
      ]
    },
    {
      "cell_type": "code",
      "execution_count": null,
      "metadata": {
        "id": "tNX3ewLfTqZC"
      },
      "outputs": [],
      "source": [
        "# And lets diarize\n",
        "oracle_vad_clusdiar_model.diarize()"
      ]
    },
    {
      "cell_type": "markdown",
      "metadata": {
        "id": "5EAtfgkzTqZC"
      },
      "source": [
        "With DER 0 -> means it clustered speaker embeddings correctly. Let's view"
      ]
    },
    {
      "cell_type": "code",
      "execution_count": null,
      "metadata": {
        "id": "ZozufVBHTqZC"
      },
      "outputs": [],
      "source": [
        "!cat {output_dir}/pred_rttms/an4_diarize_test.rttm"
      ]
    },
    {
      "cell_type": "markdown",
      "metadata": {
        "id": "Pnvw5vokTqZC"
      },
      "source": [
        "Visualize the diarization output of clustering diarizer and compare with the ground-truth speaker labels."
      ]
    },
    {
      "cell_type": "code",
      "execution_count": null,
      "metadata": {
        "id": "joyxHGZNTqZC"
      },
      "outputs": [],
      "source": [
        "print(\"Clustering Diarizer Result (RTTM format)\")\n",
        "pred_labels_neural = rttm_to_labels(f'{output_dir}/pred_rttms/an4_diarize_test.rttm')\n",
        "hypothesis_neural = labels_to_pyannote_object(pred_labels_neural)\n",
        "hypothesis_neural"
      ]
    },
    {
      "cell_type": "code",
      "execution_count": null,
      "metadata": {
        "id": "lT6Y-umdTqZC"
      },
      "outputs": [],
      "source": [
        "print(\"Ground-truth Speaker Labels\")\n",
        "reference"
      ]
    },
    {
      "cell_type": "markdown",
      "metadata": {
        "id": "Enp4XalHTqZC"
      },
      "source": [
        "### Neural Diarizer: Multiscale Diarization Decoder with Oracle VAD"
      ]
    },
    {
      "cell_type": "markdown",
      "metadata": {
        "id": "ubk971LCTqZC"
      },
      "source": [
        "The checkpoints (`.ckpt`) or NeMo files (`.nemo`) for **neural diarizers** contain all the necessary neural models for speaker diarization. For example, an MSDD model checkpoint or a NeMo file has pre-trained [TitaNet](https://catalog.ngc.nvidia.com/orgs/nvidia/teams/nemo/models/titanet_large) and MSDD model itself.\n",
        "\n",
        "In this tutorial, we use [diar_msdd_telephonic](https://catalog.ngc.nvidia.com/orgs/nvidia/teams/nemo/models/diar_msdd_telephonic) which is optimized for telephic speech. Since we share the same YAML file for all kinds of speaker diarization inference, all we need to do is add model path on top of the config setting for clustering diarizer.\n",
        "\n",
        "`sigmoid_threshold` is a threshold for making the final binary decision on overlapping speaker label. The lower the value is, the more generous on the speech overlap detection. `sigmoid_threshold` value affects false alarm and miss errors. Default value is `0.7` for telephonic model and if `sigmoid_threshold=1.0`, no overlap speech is detected."
      ]
    },
    {
      "cell_type": "code",
      "execution_count": null,
      "metadata": {
        "id": "-68j9XSgTqZD"
      },
      "outputs": [],
      "source": [
        "config.diarizer.msdd_model.model_path = 'diar_msdd_telephonic' # Telephonic speaker diarization model\n",
        "config.diarizer.msdd_model.parameters.sigmoid_threshold = [0.7, 1.0] # Evaluate with T=0.7 and T=1.0"
      ]
    },
    {
      "cell_type": "code",
      "execution_count": null,
      "metadata": {
        "id": "WPzA66tPTqZD"
      },
      "outputs": [],
      "source": [
        "from nemo.collections.asr.models.msdd_models import NeuralDiarizer\n",
        "oracle_vad_msdd_model = NeuralDiarizer(cfg=config)"
      ]
    },
    {
      "cell_type": "markdown",
      "metadata": {
        "id": "Brdlh4kFTqZD"
      },
      "source": [
        "Unlike clustering diarizer, neural diarizer evaluates diarization results in three different settings by default:\n",
        "\n",
        "* `collar=0.25`, `ignore_overlap=True`: This is the default setting for evaluating clustering diarizer.\n",
        "* `collar=0.25`, `ignore_overlap=False`: Still 0.25 s around boundaries are not evaluated but overlaps are evaluated.\n",
        "* `collar=0.0`, `ignore_overlap=False`: No collar at all and evaluate overlaps.\n",
        "\n",
        "Let's run the MSDD model with the prepared configurations."
      ]
    },
    {
      "cell_type": "code",
      "execution_count": null,
      "metadata": {
        "id": "CVmtBn1-TqZD"
      },
      "outputs": [],
      "source": [
        "oracle_vad_msdd_model.diarize()"
      ]
    },
    {
      "cell_type": "markdown",
      "metadata": {
        "id": "_tHYA1CbTqZD"
      },
      "source": [
        "The output of the neural diarizer is saved in `outputs/pred_rttms`."
      ]
    },
    {
      "cell_type": "code",
      "execution_count": null,
      "metadata": {
        "id": "UO45Jh8NTqZD"
      },
      "outputs": [],
      "source": [
        "!cat {output_dir}/pred_rttms/an4_diarize_test.rttm"
      ]
    },
    {
      "cell_type": "markdown",
      "metadata": {
        "id": "qQuIvWAxTqZD"
      },
      "source": [
        "Visualize the diarization output of clustering diarizer and compare with the ground-truth speaker labels."
      ]
    },
    {
      "cell_type": "code",
      "execution_count": null,
      "metadata": {
        "id": "gXmW8uWZTqZD"
      },
      "outputs": [],
      "source": [
        "print(\"Neural Diarizer Result (RTTM format)\")\n",
        "pred_labels_neural = rttm_to_labels(f'{output_dir}/pred_rttms/an4_diarize_test.rttm')\n",
        "hypothesis_neural = labels_to_pyannote_object(pred_labels_neural)\n",
        "hypothesis_neural"
      ]
    },
    {
      "cell_type": "code",
      "execution_count": null,
      "metadata": {
        "id": "v0SPKzdATqZE"
      },
      "outputs": [],
      "source": [
        "print(\"Ground-truth Speaker Labels\")\n",
        "reference"
      ]
    },
    {
      "cell_type": "markdown",
      "metadata": {
        "id": "FrI4O4btTqZE"
      },
      "source": [
        "# Speaker Diarization with System VAD (NeMo VAD models)"
      ]
    },
    {
      "cell_type": "markdown",
      "metadata": {
        "id": "Hfe_Vv-STqZE"
      },
      "source": [
        "In this section, we actually compute VAD timestamps using a NeMo VAD model on the input manifest file. Next, we use these timestamps for speech/non-speech labels to extract speaker embedding vectors followed by clustering them into num of speakers. As opposed to oracle VAD, the result from an actual VAD model is referred to as __system VAD__."
      ]
    },
    {
      "cell_type": "markdown",
      "metadata": {
        "id": "5fnwH_GnTqZE"
      },
      "source": [
        "Before we proceed let's look at the speaker diarization config, which we would be depending up on for vad computation\n",
        "and speaker embedding extraction."
      ]
    },
    {
      "cell_type": "code",
      "execution_count": null,
      "metadata": {
        "id": "TWZ_DapWTqZE"
      },
      "outputs": [],
      "source": [
        "print(OmegaConf.to_yaml(config))"
      ]
    },
    {
      "cell_type": "markdown",
      "metadata": {
        "id": "YwQExhyITqZE"
      },
      "source": [
        "As can be seen most of the variables in config are self explanatory\n",
        "with VAD variables under vad section and speaker related variables under speaker embeddings section."
      ]
    },
    {
      "cell_type": "markdown",
      "metadata": {
        "id": "Kc2ExA03TqZE"
      },
      "source": [
        "To perform VAD based diarization we can ignore `oracle_vad_manifest` in `speaker_embeddings` key for now and need to fill up the rest. We also needs to provide pretrained `model_path` of vad and speaker embeddings .nemo models."
      ]
    },
    {
      "cell_type": "code",
      "execution_count": null,
      "metadata": {
        "id": "K0o81y6-TqZE"
      },
      "outputs": [],
      "source": [
        "pretrained_vad = 'vad_multilingual_marblenet'\n",
        "pretrained_speaker_model = 'titanet_large'"
      ]
    },
    {
      "cell_type": "markdown",
      "metadata": {
        "id": "nGaqn-UCTqZF"
      },
      "source": [
        "Note in this tutorial, we use the VAD model *vad_multilingual_marblenet* which is an improved model based on MarbleNet-3x2 that has been introduced and published in [ICASSP MarbleNet](https://arxiv.org/pdf/2010.13886.pdf). You might need to tune on dev set similar to your dataset if you would like to improve the performance.\n",
        "\n",
        "And the speakerNet-M-Diarization model achieves 7.3% confusion error rate on CH109 set with oracle vad. This model is trained on voxceleb1, voxceleb2, Fisher, SwitchBoard datasets. So for more improved performance specific to your dataset, finetune speaker verification model with a devset similar to your test set.\n",
        "\n",
        "It is recommended to set `num_workers=1` since using the multiprocessing package in Jupyter Notebook environment might cause freezing issues. For sizable data, run speaker diarization using the scripts in `NeMo/examples/speaker_tasks/` setting `num_workers` larger than 1 in the configurations.\n",
        "\n",
        "You can play with parameters in configurations as below."
      ]
    },
    {
      "cell_type": "code",
      "execution_count": null,
      "metadata": {
        "id": "NxPTE4DNTqZF"
      },
      "outputs": [],
      "source": [
        "config.num_workers = 1 # Workaround for multiprocessing hanging with ipython issue\n",
        "\n",
        "output_dir = os.path.join(ROOT, 'outputs')\n",
        "config.diarizer.manifest_filepath = 'data/input_manifest.json'\n",
        "config.diarizer.out_dir = output_dir #Directory to store intermediate files and prediction outputs\n",
        "\n",
        "config.diarizer.speaker_embeddings.model_path = pretrained_speaker_model\n",
        "config.diarizer.oracle_vad = False # compute VAD provided with model_path to vad config\n",
        "config.diarizer.clustering.parameters.oracle_num_speakers=False\n",
        "\n",
        "# Here, we use our in-house pretrained NeMo VAD model\n",
        "config.diarizer.vad.model_path = pretrained_vad\n",
        "config.diarizer.vad.parameters.onset = 0.8\n",
        "config.diarizer.vad.parameters.offset = 0.6\n",
        "config.diarizer.vad.parameters.pad_offset = -0.05"
      ]
    },
    {
      "cell_type": "markdown",
      "metadata": {
        "id": "GwOx_qdkTqZF"
      },
      "source": [
        "### Clustering Diarizer: with System VAD"
      ]
    },
    {
      "cell_type": "markdown",
      "metadata": {
        "id": "-HX8xNqSTqZF"
      },
      "source": [
        "Now that we passed all the variables we need, let's initialize the clustering diarizer model with the configurations we set."
      ]
    },
    {
      "cell_type": "code",
      "execution_count": null,
      "metadata": {
        "id": "P2yvO0JdTqZF"
      },
      "outputs": [],
      "source": [
        "from nemo.collections.asr.models import ClusteringDiarizer\n",
        "sd_model = ClusteringDiarizer(cfg=config)"
      ]
    },
    {
      "cell_type": "markdown",
      "metadata": {
        "id": "X1q-Ty95TqZF"
      },
      "source": [
        "And launch diarization with a single line of code."
      ]
    },
    {
      "cell_type": "code",
      "execution_count": null,
      "metadata": {
        "id": "R6_3CRQcTqZF"
      },
      "outputs": [],
      "source": [
        "sd_model.diarize()"
      ]
    },
    {
      "cell_type": "markdown",
      "metadata": {
        "id": "UfebVjCwTqZF"
      },
      "source": [
        "As can be seen, we first performed VAD, then with the timestamps created in `{output_dir}/vad_outputs` by VAD we calculated speaker embeddings (`{output_dir}/speaker_outputs/embeddings/`) which are then clustered using spectral clustering."
      ]
    },
    {
      "cell_type": "markdown",
      "metadata": {
        "id": "Mvc6GwmUTqZF"
      },
      "source": [
        "Generating predicted  VAD timesteps: We perform VAD inference to have frame level prediction &#8594; (optional: use decision smoothing) &#8594; given `threshold`,  write speech segments to a RTTM-like timestamp manifest file.\n",
        "\n",
        "We use VAD decision smoothing (50% overlap median) as described in [vad_utils.py](https://github.com/NVIDIA/NeMo/blob/stable/nemo/collections/asr/parts/utils/vad_utils.py).\n",
        "\n",
        "You can also tune the threshold on your dev set. Use this provided in [vad_tune_threshold.py](https://github.com/NVIDIA/NeMo/blob/stable/scripts/voice_activity_detection/vad_tune_threshold.py)."
      ]
    },
    {
      "cell_type": "code",
      "execution_count": null,
      "metadata": {
        "id": "P1l1qhViTqZG"
      },
      "outputs": [],
      "source": [
        "# VAD predicted time stamps\n",
        "# you can also use single threshold(=onset=offset) for binarization and plot here\n",
        "from nemo.collections.asr.parts.utils.vad_utils import plot\n",
        "\n",
        "if config.diarizer.vad.parameters.smoothing:\n",
        "    vad_output_filepath = f'{output_dir}/vad_outputs/overlap_smoothing_output_median_{config.diarizer.vad.parameters.overlap}/an4_diarize_test.{config.diarizer.vad.parameters.smoothing}'\n",
        "else:\n",
        "    vad_output_filepath = f'{output_dir}/vad_outputs/an4_diarize_test.frame'\n",
        "\n",
        "plot(\n",
        "    an4_audio,\n",
        "    vad_output_filepath,\n",
        "    an4_rttm,\n",
        "    per_args = config.diarizer.vad.parameters, #threshold\n",
        "    )\n",
        "\n",
        "print(f\"VAD params:{OmegaConf.to_yaml(config.diarizer.vad.parameters)}\")"
      ]
    },
    {
      "cell_type": "markdown",
      "metadata": {
        "id": "GFVSFeeLTqZG"
      },
      "source": [
        "Predicted outputs are written to `{output_dir}/pred_rttms` and see how we predicted along with VAD prediction"
      ]
    },
    {
      "cell_type": "code",
      "execution_count": null,
      "metadata": {
        "id": "dSeqydFRTqZG"
      },
      "outputs": [],
      "source": [
        "!cat {output_dir}/pred_rttms/an4_diarize_test.rttm"
      ]
    },
    {
      "cell_type": "markdown",
      "metadata": {
        "id": "z0wG7EjNTqZG"
      },
      "source": [
        "Visualize the diarization output of clustering diarizer and compare with the ground-truth speaker labels."
      ]
    },
    {
      "cell_type": "code",
      "execution_count": null,
      "metadata": {
        "id": "crYRV407TqZG"
      },
      "outputs": [],
      "source": [
        "print(\"Clustering Diarizer Result (RTTM format)\")\n",
        "pred_labels_neural = rttm_to_labels(f'{output_dir}/pred_rttms/an4_diarize_test.rttm')\n",
        "hypothesis_neural = labels_to_pyannote_object(pred_labels_neural)\n",
        "hypothesis_neural\n"
      ]
    },
    {
      "cell_type": "code",
      "execution_count": null,
      "metadata": {
        "id": "Mj9QgxH-TqZG"
      },
      "outputs": [],
      "source": [
        "print(\"Ground-truth Speaker Labels (RTTM format)\")\n",
        "reference"
      ]
    },
    {
      "cell_type": "markdown",
      "metadata": {
        "id": "b55VPWN7TqZG"
      },
      "source": [
        "### Neural Diarizer: Multiscale Diarization Decoder with System VAD"
      ]
    },
    {
      "cell_type": "markdown",
      "metadata": {
        "id": "V7xSZQMKTqZH"
      },
      "source": [
        "We can run a neural diarizer model without changing many parameters since neural diarizer also performs VAD and clustering diarizer. All we need to do is run the MSDD model with the new config file."
      ]
    },
    {
      "cell_type": "code",
      "execution_count": null,
      "metadata": {
        "id": "lXg5ZyO0TqZH"
      },
      "outputs": [],
      "source": [
        "config.diarizer.msdd_model.model_path = 'diar_msdd_telephonic' # Telephonic speaker diarization model\n",
        "config.diarizer.msdd_model.parameters.sigmoid_threshold = [0.7, 1.0] # Evaluate with T=0.7 and T=1.0\n",
        "system_vad_msdd_model = NeuralDiarizer(cfg=config)"
      ]
    },
    {
      "cell_type": "code",
      "execution_count": null,
      "metadata": {
        "id": "dUFSfLEITqZH"
      },
      "outputs": [],
      "source": [
        "system_vad_msdd_model.diarize()"
      ]
    },
    {
      "cell_type": "markdown",
      "metadata": {
        "id": "_jlKOTs0TqZH"
      },
      "source": [
        "Check whether diarization saved in `outputs/pred_rttms` is correct."
      ]
    },
    {
      "cell_type": "code",
      "execution_count": null,
      "metadata": {
        "id": "-pbLULifTqZH"
      },
      "outputs": [],
      "source": [
        "!cat {output_dir}/pred_rttms/an4_diarize_test.rttm"
      ]
    },
    {
      "cell_type": "markdown",
      "metadata": {
        "id": "BXHnJBY9TqZH"
      },
      "source": [
        "Visualize the diarization output of clustering diarizer and compare with the ground-truth speaker labels."
      ]
    },
    {
      "cell_type": "code",
      "execution_count": null,
      "metadata": {
        "id": "dludtG1STqZH"
      },
      "outputs": [],
      "source": [
        "print(\"Neural Diarizer Result (RTTM format)\")\n",
        "pred_labels_neural = rttm_to_labels(f'{output_dir}/pred_rttms/an4_diarize_test.rttm')\n",
        "hypothesis_neural = labels_to_pyannote_object(pred_labels_neural)\n",
        "hypothesis_neural"
      ]
    },
    {
      "cell_type": "code",
      "execution_count": null,
      "metadata": {
        "id": "zUJTd2fDTqZH"
      },
      "outputs": [],
      "source": [
        "print(\"Ground-truth Speaker Labels (RTTM format)\")\n",
        "reference"
      ]
    },
    {
      "cell_type": "markdown",
      "metadata": {
        "id": "vyHY-heGTqZI"
      },
      "source": [
        "# Storing and Restoring models"
      ]
    },
    {
      "cell_type": "markdown",
      "metadata": {
        "id": "pVi4MQUjTqZI"
      },
      "source": [
        "For clustering diarizer, we can save the whole config and model parameters in a single .nemo and restore from it anytime. Neural diarizer will support this feature soon."
      ]
    },
    {
      "cell_type": "code",
      "execution_count": null,
      "metadata": {
        "id": "SxnGbWwXTqZI"
      },
      "outputs": [],
      "source": [
        "oracle_vad_clusdiar_model.save_to(os.path.join(output_dir,'clustering_diarizer.nemo'))"
      ]
    },
    {
      "cell_type": "markdown",
      "metadata": {
        "id": "yiBQjCkfTqZI"
      },
      "source": [
        "Restore from saved model"
      ]
    },
    {
      "cell_type": "code",
      "execution_count": null,
      "metadata": {
        "id": "NoQtuF88TqZI"
      },
      "outputs": [],
      "source": [
        "del oracle_vad_clusdiar_model\n",
        "import nemo.collections.asr as nemo_asr\n",
        "restored_model = nemo_asr.models.ClusteringDiarizer.restore_from(os.path.join(output_dir,'clustering_diarizer.nemo'))"
      ]
    }
  ],
  "metadata": {
    "kernelspec": {
      "display_name": "Python 3",
      "name": "python3"
    },
    "language_info": {
      "codemirror_mode": {
        "name": "ipython",
        "version": 3
      },
      "file_extension": ".py",
      "mimetype": "text/x-python",
      "name": "python",
      "nbconvert_exporter": "python",
      "pygments_lexer": "ipython3",
      "version": "3.9.13"
    },
    "pycharm": {
      "stem_cell": {
        "cell_type": "raw",
        "metadata": {
          "collapsed": false
        },
        "source": []
      }
    },
    "vscode": {
      "interpreter": {
        "hash": "aee8b7b246df8f9039afb4144a1f6fd8d2ca17a180786b69acc140d282b71a49"
      }
    },
    "colab": {
      "provenance": [],
      "gpuType": "T4"
    },
    "accelerator": "GPU"
  },
  "nbformat": 4,
  "nbformat_minor": 0
}